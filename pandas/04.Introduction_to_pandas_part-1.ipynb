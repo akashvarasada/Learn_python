{
 "cells": [
  {
   "cell_type": "code",
   "execution_count": null,
   "id": "9952cd6b",
   "metadata": {},
   "outputs": [],
   "source": [
    "import pandas as pd"
   ]
  },
  {
   "cell_type": "code",
   "execution_count": null,
   "id": "08954120",
   "metadata": {},
   "outputs": [],
   "source": [
    "#pwd"
   ]
  },
  {
   "cell_type": "code",
   "execution_count": null,
   "id": "4f6c3342",
   "metadata": {},
   "outputs": [],
   "source": [
    "#cd D:\\New CD"
   ]
  },
  {
   "cell_type": "code",
   "execution_count": null,
   "id": "7ca4612c",
   "metadata": {},
   "outputs": [],
   "source": [
    "#pwd"
   ]
  },
  {
   "cell_type": "code",
   "execution_count": null,
   "id": "d9944b26",
   "metadata": {},
   "outputs": [],
   "source": [
    "sales=pd.read_excel(\"100_Sales_Records.xlsx\")\n",
    "sales.head()"
   ]
  },
  {
   "cell_type": "code",
   "execution_count": null,
   "id": "406b6b2f",
   "metadata": {},
   "outputs": [],
   "source": [
    "#Names of all columns in dataset\n",
    "sales.columns"
   ]
  },
  {
   "cell_type": "code",
   "execution_count": null,
   "id": "fe874510",
   "metadata": {},
   "outputs": [],
   "source": [
    "#First 5 records of data\n",
    "sales.head()"
   ]
  },
  {
   "cell_type": "code",
   "execution_count": null,
   "id": "cf09df4e",
   "metadata": {},
   "outputs": [],
   "source": [
    "#Last 5 records of data\n",
    "sales.tail()"
   ]
  },
  {
   "cell_type": "code",
   "execution_count": null,
   "id": "dc176dbe",
   "metadata": {},
   "outputs": [],
   "source": [
    "#First 3 records of data\n",
    "sales.head(3)"
   ]
  },
  {
   "cell_type": "code",
   "execution_count": null,
   "id": "74fe0f9d",
   "metadata": {},
   "outputs": [],
   "source": [
    "#Last 3 records of data\n",
    "sales.tail(3)"
   ]
  },
  {
   "cell_type": "markdown",
   "id": "ebe710e6",
   "metadata": {},
   "source": [
    "# Slicing & Dicing"
   ]
  },
  {
   "cell_type": "code",
   "execution_count": null,
   "id": "af06e44d",
   "metadata": {},
   "outputs": [],
   "source": [
    "#select a single column(Selecting data using Labels (Column Headings))\n",
    "sales['Region'].head()"
   ]
  },
  {
   "cell_type": "code",
   "execution_count": null,
   "id": "5f80d22b",
   "metadata": {},
   "outputs": [],
   "source": [
    "#Method 2: use the column name as an 'attribute'; gives the same output\n",
    "sales.Region.head()"
   ]
  },
  {
   "cell_type": "code",
   "execution_count": null,
   "id": "d8bbc99b",
   "metadata": {},
   "outputs": [],
   "source": [
    "#pass a list of column(select multiple columns)\n",
    "sales[['Region','Total_Profit']].head()"
   ]
  },
  {
   "cell_type": "code",
   "execution_count": null,
   "id": "00797f6b",
   "metadata": {},
   "outputs": [],
   "source": [
    "#what if you flip the order\n",
    "sales[['Total_Profit','Region']].head()"
   ]
  },
  {
   "cell_type": "code",
   "execution_count": null,
   "id": "1dfa1f16",
   "metadata": {},
   "outputs": [],
   "source": [
    "#create an object that only contain Region column\n",
    "Region_data=sales['Region']\n",
    "Region_data.head()"
   ]
  },
  {
   "cell_type": "code",
   "execution_count": null,
   "id": "02e8df21",
   "metadata": {},
   "outputs": [],
   "source": [
    "#Creating a new column-new\n",
    "sales['region_country']=sales['Region']+sales['Country']\n",
    "sales.head()"
   ]
  },
  {
   "cell_type": "code",
   "execution_count": null,
   "id": "9fa1cdc7",
   "metadata": {},
   "outputs": [],
   "source": [
    "#Slicing Subsets of Rows in Python\n",
    "#select first 3 rows\n",
    "sales[0:3]"
   ]
  },
  {
   "cell_type": "code",
   "execution_count": null,
   "id": "22e9a843",
   "metadata": {},
   "outputs": [],
   "source": [
    "#select first 5 rows\n",
    "sales[:5]"
   ]
  },
  {
   "cell_type": "code",
   "execution_count": null,
   "id": "0f93aac3",
   "metadata": {},
   "outputs": [],
   "source": [
    "# Select the last row in the dataset\n",
    "sales[-1:]"
   ]
  },
  {
   "cell_type": "markdown",
   "id": "f1a88fa8",
   "metadata": {},
   "source": [
    "# LOC"
   ]
  },
  {
   "cell_type": "code",
   "execution_count": null,
   "id": "4249f7f7",
   "metadata": {},
   "outputs": [],
   "source": [
    "# Select all columns for rows of index values 0 and 10\n",
    "sales.loc[[0, 10], :]"
   ]
  },
  {
   "cell_type": "code",
   "execution_count": null,
   "id": "1cf705b6",
   "metadata": {},
   "outputs": [],
   "source": [
    "# Select all columns for rows of index values 0 and 10\n",
    "sales.loc[0:10, :]"
   ]
  },
  {
   "cell_type": "code",
   "execution_count": null,
   "id": "28876634",
   "metadata": {},
   "outputs": [],
   "source": [
    "# Select all columns for rows of index values 0 and 10\n",
    "sales.loc[0:10,:]"
   ]
  },
  {
   "cell_type": "code",
   "execution_count": null,
   "id": "39faaf0d",
   "metadata": {},
   "outputs": [],
   "source": [
    "sales.loc[0:10,\"Region\":\"Order_Priority\"]"
   ]
  },
  {
   "cell_type": "code",
   "execution_count": null,
   "id": "857da938",
   "metadata": {},
   "outputs": [],
   "source": [
    "sales.loc[0, ['Region', 'Country', 'Item_Type']]"
   ]
  },
  {
   "cell_type": "code",
   "execution_count": null,
   "id": "872da68f",
   "metadata": {},
   "outputs": [],
   "source": [
    "sales.loc[0:5, ['Region', 'Country', 'Item_Type']]"
   ]
  },
  {
   "cell_type": "code",
   "execution_count": null,
   "id": "4a466851",
   "metadata": {},
   "outputs": [],
   "source": [
    "sales.loc[[0, 10, 25],:]"
   ]
  },
  {
   "cell_type": "code",
   "execution_count": null,
   "id": "7f7b5f34",
   "metadata": {},
   "outputs": [],
   "source": [
    "sales.loc[[0,4],:]"
   ]
  },
  {
   "cell_type": "markdown",
   "id": "1585b0e8",
   "metadata": {},
   "source": [
    "# ILOC"
   ]
  },
  {
   "cell_type": "code",
   "execution_count": null,
   "id": "8f5dbd36",
   "metadata": {},
   "outputs": [],
   "source": [
    "# Syntax for iloc indexing to finding a specific data element\n",
    "#sales.iloc[row, column]"
   ]
  },
  {
   "cell_type": "code",
   "execution_count": null,
   "id": "c650fabb",
   "metadata": {},
   "outputs": [],
   "source": [
    "#value in 2nd row and 6th column\n",
    "sales.iloc[2,6]"
   ]
  },
  {
   "cell_type": "code",
   "execution_count": null,
   "id": "a28704f8",
   "metadata": {},
   "outputs": [],
   "source": [
    "#Slicing Subsets of Rows and Columns in Python\n",
    "# To select a subset of rows and columns from our DataFrame, \n",
    "# we can use the iloc method. For example, we can select month, day and year \n",
    "#(columns 2, 3 and 4 if we start counting at 1), like this:\n",
    "#iloc[row slicing,column slicing]"
   ]
  },
  {
   "cell_type": "code",
   "execution_count": null,
   "id": "c7d8c437",
   "metadata": {},
   "outputs": [],
   "source": [
    "sales.iloc[0:10,0:5]\n"
   ]
  },
  {
   "cell_type": "code",
   "execution_count": null,
   "id": "3c6c69fe",
   "metadata": {},
   "outputs": [],
   "source": [
    "sales.iloc[2:6,6:9]"
   ]
  },
  {
   "cell_type": "markdown",
   "id": "808758f7",
   "metadata": {},
   "source": [
    "# Subsetting & Filter"
   ]
  },
  {
   "cell_type": "code",
   "execution_count": null,
   "id": "72f0787e",
   "metadata": {},
   "outputs": [],
   "source": [
    "#Subsetting Data using Criteria\n",
    "sales\n",
    "sales[sales.Sales_Channel == \"Offline\"]"
   ]
  },
  {
   "cell_type": "code",
   "execution_count": null,
   "id": "f4a75d46",
   "metadata": {},
   "outputs": [],
   "source": [
    "sales\n",
    "sales[sales.Sales_Channel != \"Offline\"]"
   ]
  },
  {
   "cell_type": "code",
   "execution_count": null,
   "id": "7f42738b",
   "metadata": {},
   "outputs": [],
   "source": [
    "# baby food, cereal, unit cost> 100\n",
    "sales[(sales.Total_Profit >= 150000) & (sales.Total_Revenue >= 50000)].head()"
   ]
  },
  {
   "cell_type": "markdown",
   "id": "c4899654",
   "metadata": {},
   "source": [
    "# Descriptive Statistics"
   ]
  },
  {
   "cell_type": "code",
   "execution_count": null,
   "id": "e1a9c67f",
   "metadata": {},
   "outputs": [],
   "source": [
    "sales.mean()"
   ]
  },
  {
   "cell_type": "code",
   "execution_count": null,
   "id": "b1fea085",
   "metadata": {},
   "outputs": [],
   "source": [
    "sales.max()"
   ]
  },
  {
   "cell_type": "code",
   "execution_count": null,
   "id": "6a008e5d",
   "metadata": {},
   "outputs": [],
   "source": [
    "sales.min()"
   ]
  },
  {
   "cell_type": "code",
   "execution_count": null,
   "id": "623fcf5e",
   "metadata": {},
   "outputs": [],
   "source": [
    "sales.median()"
   ]
  },
  {
   "cell_type": "code",
   "execution_count": null,
   "id": "80c78b82",
   "metadata": {},
   "outputs": [],
   "source": [
    "sales.std()"
   ]
  },
  {
   "cell_type": "code",
   "execution_count": null,
   "id": "94fb2b2d",
   "metadata": {},
   "outputs": [],
   "source": [
    "sales.var()"
   ]
  },
  {
   "cell_type": "code",
   "execution_count": null,
   "id": "51ec025d",
   "metadata": {},
   "outputs": [],
   "source": [
    "sales.describe()"
   ]
  },
  {
   "cell_type": "code",
   "execution_count": null,
   "id": "e0b244fa",
   "metadata": {},
   "outputs": [],
   "source": [
    "sales.info()"
   ]
  },
  {
   "cell_type": "code",
   "execution_count": null,
   "id": "356dc109",
   "metadata": {},
   "outputs": [],
   "source": [
    "#check datatype\n",
    "sales.dtypes['Region']"
   ]
  },
  {
   "cell_type": "code",
   "execution_count": null,
   "id": "7ad05b5f",
   "metadata": {},
   "outputs": [],
   "source": [
    "sales.dtypes['Total_Profit']"
   ]
  },
  {
   "cell_type": "code",
   "execution_count": null,
   "id": "99ba5ebb",
   "metadata": {},
   "outputs": [],
   "source": [
    "sales.count()"
   ]
  },
  {
   "cell_type": "code",
   "execution_count": null,
   "id": "6adfd36b",
   "metadata": {},
   "outputs": [],
   "source": [
    "# skew() function return unbiased skew over requested axis\n",
    "sales.skew()\n"
   ]
  },
  {
   "cell_type": "code",
   "execution_count": null,
   "id": "2ce4b414",
   "metadata": {},
   "outputs": [],
   "source": [
    "#kurt() function return unbiased kurtosis over requested axis\n",
    "sales.kurt()"
   ]
  },
  {
   "cell_type": "code",
   "execution_count": null,
   "id": "dbcded28",
   "metadata": {},
   "outputs": [],
   "source": [
    "#Compute pairwise correlation of columns, excluding NA/null values. \n",
    "sales.corr()"
   ]
  },
  {
   "cell_type": "code",
   "execution_count": null,
   "id": "e3caef08",
   "metadata": {},
   "outputs": [],
   "source": [
    "#Covariance is a measure of how much two random variables vary together.\n",
    "#The cov() function is used to compute pairwise covariance of columns, excluding NA/null values. \n",
    "\n",
    "sales.cov()"
   ]
  },
  {
   "cell_type": "markdown",
   "id": "78730c7c",
   "metadata": {},
   "source": [
    "# Apply function"
   ]
  },
  {
   "cell_type": "code",
   "execution_count": null,
   "id": "acf1b202",
   "metadata": {},
   "outputs": [],
   "source": [
    "sales.apply(max)"
   ]
  },
  {
   "cell_type": "code",
   "execution_count": null,
   "id": "56a8e351",
   "metadata": {},
   "outputs": [],
   "source": [
    "sales.apply(min)"
   ]
  },
  {
   "cell_type": "code",
   "execution_count": null,
   "id": "28310ad5",
   "metadata": {},
   "outputs": [],
   "source": [
    "sales"
   ]
  },
  {
   "cell_type": "markdown",
   "id": "5ffa70af",
   "metadata": {},
   "source": [
    "# DROP ENTERIES/VALUES"
   ]
  },
  {
   "cell_type": "markdown",
   "id": "82eeb9bc",
   "metadata": {},
   "source": [
    "## Drop Columns"
   ]
  },
  {
   "cell_type": "code",
   "execution_count": null,
   "id": "6b76b7db",
   "metadata": {},
   "outputs": [],
   "source": [
    "#To remove column Region\n",
    "Newdata=sales.drop(['Region'], axis=1)\n",
    "Newdata.head()"
   ]
  },
  {
   "cell_type": "code",
   "execution_count": null,
   "id": "a895f311",
   "metadata": {},
   "outputs": [],
   "source": [
    "#To make permanent change in the dataset\n",
    "\n",
    "sales.drop(['Item_Type'], axis=1,inplace=True)\n",
    "sales.head()"
   ]
  },
  {
   "cell_type": "code",
   "execution_count": null,
   "id": "d29053c1",
   "metadata": {},
   "outputs": [],
   "source": [
    "# Remove more than one column\n",
    "sales.drop(['Region','Total_Profit'],axis=1).head()"
   ]
  },
  {
   "cell_type": "code",
   "execution_count": null,
   "id": "cea6ef7a",
   "metadata": {},
   "outputs": [],
   "source": [
    "# Remove more than one column\n",
    "sales.drop(['Region','Unit_Cost','Total_Profit'],axis=1).head()"
   ]
  },
  {
   "cell_type": "code",
   "execution_count": null,
   "id": "dcb654e2",
   "metadata": {},
   "outputs": [],
   "source": [
    "# Remove Multiple Columns in Python by indenxing\n",
    "sales.drop(sales.columns[[0,2]], axis =1).head()"
   ]
  },
  {
   "cell_type": "code",
   "execution_count": null,
   "id": "efd44318",
   "metadata": {},
   "outputs": [],
   "source": [
    "#Remove column count 3(Ship_Date)\n",
    "sales.drop(sales.columns[3], axis =1).head()"
   ]
  },
  {
   "cell_type": "markdown",
   "id": "9bc1e473",
   "metadata": {},
   "source": [
    "## Drop Rows"
   ]
  },
  {
   "cell_type": "code",
   "execution_count": null,
   "id": "d5627875",
   "metadata": {},
   "outputs": [],
   "source": [
    "# Drop an observation (row)\n",
    "sales.drop([1,2])"
   ]
  },
  {
   "cell_type": "markdown",
   "id": "5284127b",
   "metadata": {},
   "source": [
    "## Drop Columns from a Dataframe using loc[] and drop() method"
   ]
  },
  {
   "cell_type": "code",
   "execution_count": null,
   "id": "a123e7a5",
   "metadata": {},
   "outputs": [],
   "source": [
    "# Remove all columns between column name 'Country' to 'Total_Profit'\n",
    "sales.drop(sales.loc[:, 'Country':'Total_Profit'].columns, axis = 1).head()"
   ]
  },
  {
   "cell_type": "markdown",
   "id": "1f63b002",
   "metadata": {},
   "source": [
    "## Drop Duplicates"
   ]
  },
  {
   "cell_type": "code",
   "execution_count": null,
   "id": "238a4ead",
   "metadata": {},
   "outputs": [],
   "source": [
    "data = {\"StudentName\": [\"Reena\", \"Anil\", \"Mansi\", \"Jaman\",\"Reena\"],\n",
    "        \"Age\": [24, 28, 26, 24,24],\n",
    "        \"Sex\": [\"Female\", \"Male\", \"Female\", \"Male\",\"Female\"]}\n",
    "df = pd.DataFrame(data)\n",
    "print(df)"
   ]
  },
  {
   "cell_type": "markdown",
   "id": "41876ac2",
   "metadata": {},
   "source": [
    "## Drop Duplicate Rows\n",
    "#drop_duplicates returns only the dataframe’s unique values. Removing duplicate records is sample."
   ]
  },
  {
   "cell_type": "code",
   "execution_count": null,
   "id": "ee8130fd",
   "metadata": {},
   "outputs": [],
   "source": [
    "df = df.drop_duplicates()\n",
    "print(df)"
   ]
  },
  {
   "cell_type": "markdown",
   "id": "f891ddd1",
   "metadata": {},
   "source": [
    "## Sorting Asceding and Desceding"
   ]
  },
  {
   "cell_type": "code",
   "execution_count": null,
   "id": "215acbc0",
   "metadata": {},
   "outputs": [],
   "source": [
    "#Sort Ascending(by defalut)\n",
    "new_data = df.sort_values('Age')\n",
    "new_data"
   ]
  },
  {
   "cell_type": "code",
   "execution_count": null,
   "id": "4f9cc09e",
   "metadata": {},
   "outputs": [],
   "source": [
    "# Sort Descending\n",
    "new_data = df.sort_values('Age', ascending=False)\n",
    "new_data"
   ]
  },
  {
   "cell_type": "code",
   "execution_count": null,
   "id": "fae04d94",
   "metadata": {},
   "outputs": [],
   "source": [
    "new_data = df.sort_values('StudentName', ascending=False)\n",
    "new_data"
   ]
  },
  {
   "cell_type": "markdown",
   "id": "707782cd",
   "metadata": {},
   "source": [
    "## Concatenate"
   ]
  },
  {
   "cell_type": "code",
   "execution_count": null,
   "id": "45b5faef",
   "metadata": {},
   "outputs": [],
   "source": [
    "# Creating first dataframe \n",
    "df1 = pd.DataFrame({'A': ['A0', 'A1', 'A2', 'A3'], \n",
    "                    'B': ['B0', 'B1', 'B2', 'B3'], \n",
    "                    'C': ['C0', 'C1', 'C2', 'C3'], \n",
    "                    'D': ['D0', 'D1', 'D2', 'D3']}, \n",
    "                    index = [0, 1, 2, 3]) \n",
    "df1"
   ]
  },
  {
   "cell_type": "code",
   "execution_count": null,
   "id": "858d7ae0",
   "metadata": {},
   "outputs": [],
   "source": [
    "# Creating second dataframe \n",
    "df2 = pd.DataFrame({'A': ['A4', 'A5', 'A6', 'A7'], \n",
    "                    'B': ['B4', 'B5', 'B6', 'B7'], \n",
    "                    'C': ['C4', 'C5', 'C6', 'C7'], \n",
    "                    'D': ['D4', 'D5', 'D6', 'D7']}, \n",
    "                    index = [4, 5, 6, 7])\n",
    "df2"
   ]
  },
  {
   "cell_type": "code",
   "execution_count": null,
   "id": "2b977ad7",
   "metadata": {},
   "outputs": [],
   "source": [
    "# Creating third dataframe \n",
    "df3 = pd.DataFrame({'A': ['A8', 'A9', 'A10', 'A11'], \n",
    "                    'B': ['B8', 'B9', 'B10', 'B11'], \n",
    "                    'C': ['C8', 'C9', 'C10', 'C11'], \n",
    "                    'D': ['D8', 'D9', 'D10', 'D11']}, \n",
    "                    index = [8, 9, 10, 11])\n",
    "df3"
   ]
  },
  {
   "cell_type": "code",
   "execution_count": null,
   "id": "f35ebf08",
   "metadata": {},
   "outputs": [],
   "source": [
    "# Concatenating the dataframes \n",
    "pd.concat([df1, df2, df3])"
   ]
  },
  {
   "cell_type": "markdown",
   "id": "895e3db5",
   "metadata": {},
   "source": [
    "# Group By"
   ]
  },
  {
   "cell_type": "markdown",
   "id": "6cc143df",
   "metadata": {},
   "source": [
    "groupby() function is used to split the data into groups based on some criteria"
   ]
  },
  {
   "cell_type": "code",
   "execution_count": null,
   "id": "2394b8c7",
   "metadata": {},
   "outputs": [],
   "source": [
    "sales.columns"
   ]
  },
  {
   "cell_type": "code",
   "execution_count": null,
   "id": "a5f3a609",
   "metadata": {},
   "outputs": [],
   "source": [
    "sales.groupby(['Sales_Channel']).mean()"
   ]
  },
  {
   "cell_type": "code",
   "execution_count": null,
   "id": "1f184b65",
   "metadata": {},
   "outputs": [],
   "source": [
    "sales.groupby(['Order_Priority']).sum().head()"
   ]
  },
  {
   "cell_type": "code",
   "execution_count": null,
   "id": "9d265cd9",
   "metadata": {},
   "outputs": [],
   "source": [
    "sales.groupby(['Region','Sales_Channel','Order_Priority']).count()['Unit_Cost'].head()"
   ]
  },
  {
   "cell_type": "markdown",
   "id": "bf8bdac4",
   "metadata": {},
   "source": [
    "# PIVOT Tables"
   ]
  },
  {
   "cell_type": "code",
   "execution_count": null,
   "id": "2454b4d3",
   "metadata": {},
   "outputs": [],
   "source": [
    "pd.pivot_table(sales, index = ['Sales_Channel', 'Order_Priority'], aggfunc='sum')"
   ]
  },
  {
   "cell_type": "markdown",
   "id": "cbf863a9",
   "metadata": {},
   "source": [
    "# Crosstab in Pandas"
   ]
  },
  {
   "cell_type": "markdown",
   "id": "49edd72d",
   "metadata": {},
   "source": [
    "#crosstab() function in Python. This method is used to compute a simple cross-tabulation of two (or more) factors"
   ]
  },
  {
   "cell_type": "code",
   "execution_count": null,
   "id": "19981e67",
   "metadata": {},
   "outputs": [],
   "source": [
    "pd.crosstab(sales['Sales_Channel'],sales.Unit_Cost)"
   ]
  },
  {
   "cell_type": "markdown",
   "id": "0a4a16a2",
   "metadata": {},
   "source": [
    "# Merge & Joins "
   ]
  },
  {
   "cell_type": "code",
   "execution_count": null,
   "id": "3bb2c94c",
   "metadata": {},
   "outputs": [],
   "source": [
    "user_usage = pd.read_csv(\"user_usage.csv\")\n",
    "user_device = pd.read_csv(\"user_device.csv\")"
   ]
  },
  {
   "cell_type": "code",
   "execution_count": null,
   "id": "3cc81e2f",
   "metadata": {},
   "outputs": [],
   "source": [
    "user_usage.head()"
   ]
  },
  {
   "cell_type": "code",
   "execution_count": null,
   "id": "7a98ec13",
   "metadata": {},
   "outputs": [],
   "source": [
    "user_device.head()"
   ]
  },
  {
   "cell_type": "markdown",
   "id": "aa020aa7",
   "metadata": {},
   "source": [
    "# Inner Merge-bydefault"
   ]
  },
  {
   "cell_type": "code",
   "execution_count": null,
   "id": "56bea0c9",
   "metadata": {},
   "outputs": [],
   "source": [
    "result = pd.merge(user_usage,user_device,on='use_id',how='inner')\n",
    "result.head()"
   ]
  },
  {
   "cell_type": "markdown",
   "id": "5375720f",
   "metadata": {
    "collapsed": true
   },
   "source": [
    "# Select specific columns in joined "
   ]
  },
  {
   "cell_type": "code",
   "execution_count": null,
   "id": "6d50e50c",
   "metadata": {
    "scrolled": true
   },
   "outputs": [],
   "source": [
    "result = pd.merge(user_usage,\n",
    "                 user_device[['use_id', 'platform', 'device']],\n",
    "                 on='use_id')\n",
    "result.head()"
   ]
  },
  {
   "cell_type": "markdown",
   "id": "75b893ad",
   "metadata": {},
   "source": [
    "# Left Merge"
   ]
  },
  {
   "cell_type": "code",
   "execution_count": null,
   "id": "ad07c482",
   "metadata": {},
   "outputs": [],
   "source": [
    "left_merge = pd.merge(user_usage,user_device,on='use_id',how='left')\n",
    "left_merge.head()"
   ]
  },
  {
   "cell_type": "markdown",
   "id": "8803683d",
   "metadata": {},
   "source": [
    "# Right Merge"
   ]
  },
  {
   "cell_type": "code",
   "execution_count": null,
   "id": "f4de2728",
   "metadata": {},
   "outputs": [],
   "source": [
    "right_merge = pd.merge(user_usage,user_device,on='use_id',how='right')\n",
    "right_merge.head()"
   ]
  },
  {
   "cell_type": "markdown",
   "id": "3985b93f",
   "metadata": {},
   "source": [
    "# Outer Merge"
   ]
  },
  {
   "cell_type": "code",
   "execution_count": null,
   "id": "d46a5a7b",
   "metadata": {},
   "outputs": [],
   "source": [
    "outer_merge = pd.merge(user_usage,user_device,on='use_id',how='outer')\n",
    "outer_merge.head()"
   ]
  },
  {
   "cell_type": "code",
   "execution_count": null,
   "id": "0fbffc03",
   "metadata": {},
   "outputs": [],
   "source": []
  },
  {
   "cell_type": "code",
   "execution_count": null,
   "id": "0247c237",
   "metadata": {},
   "outputs": [],
   "source": []
  }
 ],
 "metadata": {
  "kernelspec": {
   "display_name": "Python 3 (ipykernel)",
   "language": "python",
   "name": "python3"
  },
  "language_info": {
   "codemirror_mode": {
    "name": "ipython",
    "version": 3
   },
   "file_extension": ".py",
   "mimetype": "text/x-python",
   "name": "python",
   "nbconvert_exporter": "python",
   "pygments_lexer": "ipython3",
   "version": "3.9.12"
  }
 },
 "nbformat": 4,
 "nbformat_minor": 5
}
