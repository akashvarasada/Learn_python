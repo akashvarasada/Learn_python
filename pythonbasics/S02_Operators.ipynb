{
 "cells": [
  {
   "cell_type": "markdown",
   "id": "ffd7d0d6",
   "metadata": {},
   "source": [
    "# Python Operators"
   ]
  },
  {
   "cell_type": "markdown",
   "id": "b7d99712",
   "metadata": {},
   "source": [
    "# Arithmetic Operators"
   ]
  },
  {
   "cell_type": "code",
   "execution_count": 1,
   "id": "1b9bc4d8",
   "metadata": {},
   "outputs": [
    {
     "name": "stdout",
     "output_type": "stream",
     "text": [
      "25\n",
      "4.0\n",
      "4\n",
      "2\n",
      "110\n",
      "25\n"
     ]
    }
   ],
   "source": [
    "print(5 + 20)\n",
    "print(20/ 5)\n",
    "print(22 // 5)\n",
    "print(22 % 5)\n",
    "print(22 * 5)\n",
    "print(5 ** 2)"
   ]
  },
  {
   "cell_type": "markdown",
   "id": "0b0e4777",
   "metadata": {},
   "source": [
    "# Assignment Operators"
   ]
  },
  {
   "cell_type": "code",
   "execution_count": 2,
   "id": "1652cdfe",
   "metadata": {},
   "outputs": [
    {
     "name": "stdout",
     "output_type": "stream",
     "text": [
      "10\n",
      "13\n",
      "10\n",
      "30\n",
      "10.0\n",
      "1000.0\n",
      "10.0\n",
      "1.0\n",
      "10.0\n",
      "3.0\n"
     ]
    }
   ],
   "source": [
    "y = 10\n",
    "print(y)\n",
    "y += 3\n",
    "print(y)\n",
    "y -= 3\n",
    "print(y)\n",
    "y *= 3\n",
    "print(y)\n",
    "y /= 3\n",
    "print(y)\n",
    "\n",
    "y **= 3\n",
    "print(y)\n",
    "\n",
    "y //= 100\n",
    "print(y)\n",
    "\n",
    "y %= 3\n",
    "print(y)\n",
    "\n",
    "y += 9\n",
    "print(y)\n",
    "\n",
    "y //= 3\n",
    "print(y)\n"
   ]
  },
  {
   "cell_type": "markdown",
   "id": "4400e243",
   "metadata": {},
   "source": [
    "# Comparision Operators"
   ]
  },
  {
   "cell_type": "code",
   "execution_count": 7,
   "id": "85dcd756",
   "metadata": {},
   "outputs": [
    {
     "name": "stdout",
     "output_type": "stream",
     "text": [
      "False\n",
      "True\n",
      "False\n",
      "True\n",
      "False\n",
      "True\n"
     ]
    }
   ],
   "source": [
    "a = 10\n",
    "b = 4\n",
    "print(a == b)\n",
    "print(a > b)\n",
    "print(a < b)\n",
    "print(a >= b)\n",
    "print(a <= b)\n",
    "print(a != b)"
   ]
  },
  {
   "cell_type": "markdown",
   "id": "c92f903c",
   "metadata": {},
   "source": [
    "# Logical Operator"
   ]
  },
  {
   "cell_type": "code",
   "execution_count": 8,
   "id": "9d512a9b",
   "metadata": {},
   "outputs": [
    {
     "name": "stdout",
     "output_type": "stream",
     "text": [
      "10\n"
     ]
    }
   ],
   "source": [
    "if a>0 or a<8:\n",
    "    print(a)"
   ]
  },
  {
   "cell_type": "code",
   "execution_count": 9,
   "id": "77137b27",
   "metadata": {},
   "outputs": [
    {
     "name": "stdout",
     "output_type": "stream",
     "text": [
      "10\n"
     ]
    }
   ],
   "source": [
    "if a>0 and a<11:\n",
    "    print(a)"
   ]
  },
  {
   "cell_type": "code",
   "execution_count": 10,
   "id": "e325cdea",
   "metadata": {},
   "outputs": [
    {
     "name": "stdout",
     "output_type": "stream",
     "text": [
      "10\n"
     ]
    }
   ],
   "source": [
    "if a>0 and a!=11:\n",
    "    print(a)"
   ]
  },
  {
   "cell_type": "code",
   "execution_count": 26,
   "id": "e87053b6",
   "metadata": {},
   "outputs": [
    {
     "name": "stdout",
     "output_type": "stream",
     "text": [
      "a is lesser than 40 but can be any number\n"
     ]
    }
   ],
   "source": [
    "a = 50\n",
    "if a<10:\n",
    "    print(\"a is lesser than 10\")\n",
    "elif a<20:\n",
    "    print(\"a is lesser than 20\")\n",
    "elif a<30:\n",
    "    print(\"a is lesser than 30\")\n",
    "elif a<40:\n",
    "    print(\"a is lesser than 40\")\n",
    "else:\n",
    "    print(\"a is lesser than 40 but can be any number\")"
   ]
  },
  {
   "cell_type": "code",
   "execution_count": 27,
   "id": "5671fc2a",
   "metadata": {},
   "outputs": [
    {
     "name": "stdout",
     "output_type": "stream",
     "text": [
      "a is lesser than 40 but can be any number\n"
     ]
    }
   ],
   "source": [
    "a = 50\n",
    "if a<10:\n",
    "    print(\"a is lesser than 10\")\n",
    "    if a<20:\n",
    "        print(\"a is lesser than 20\")\n",
    "        if a<30:\n",
    "            print(\"a is lesser than 30\")\n",
    "            if a<40:\n",
    "                print(\"a is lesser than 40\")\n",
    "else:\n",
    "    print(\"a is lesser than 40 but can be any number\")"
   ]
  },
  {
   "cell_type": "code",
   "execution_count": 28,
   "id": "9de0ed97",
   "metadata": {},
   "outputs": [],
   "source": [
    "a = 20\n",
    "if a>10:\n",
    "    pass"
   ]
  },
  {
   "cell_type": "code",
   "execution_count": 12,
   "id": "3bcfaeb7",
   "metadata": {
    "scrolled": true
   },
   "outputs": [
    {
     "name": "stdout",
     "output_type": "stream",
     "text": [
      "\n",
      "0\n",
      "00\n",
      "000\n",
      "0000\n",
      "00000\n",
      "000000\n",
      "0000000\n",
      "++++++++\n",
      "+++++++++\n",
      "++++++++++\n",
      "+++++++++++\n",
      "++++++++++++\n",
      "+++++++++++++\n",
      "++++++++++++++\n"
     ]
    }
   ],
   "source": [
    "for i in range(15):\n",
    "    if i < 8:\n",
    "        print(\"0\"*i)\n",
    "    else:\n",
    "        print(\"+\"*i)"
   ]
  },
  {
   "cell_type": "markdown",
   "id": "e53f4a25",
   "metadata": {},
   "source": [
    "# Membership Operators"
   ]
  },
  {
   "cell_type": "code",
   "execution_count": 20,
   "id": "bd47c2f9",
   "metadata": {},
   "outputs": [
    {
     "name": "stdout",
     "output_type": "stream",
     "text": [
      "True\n",
      "False\n",
      "False\n",
      "True\n"
     ]
    }
   ],
   "source": [
    "info = [\"Akash\",\"Datascience\",\"BITSpilani\",\"Rajkot\",\"badminton\"]\n",
    "print(\"Akash\" in info)\n",
    "print(\"Rahul\" in info)\n",
    "print(\"Akash\" not in info)\n",
    "print(\"Rahul\" not in info)"
   ]
  },
  {
   "cell_type": "markdown",
   "id": "92736a90",
   "metadata": {},
   "source": [
    "# Identity Operators"
   ]
  },
  {
   "cell_type": "code",
   "execution_count": 23,
   "id": "930306e2",
   "metadata": {},
   "outputs": [
    {
     "name": "stdout",
     "output_type": "stream",
     "text": [
      "False\n",
      "True\n"
     ]
    }
   ],
   "source": [
    "a = 2\n",
    "b = 8\n",
    "\n",
    "print(a is b)\n",
    "print(a is not b)"
   ]
  },
  {
   "cell_type": "markdown",
   "id": "30564472",
   "metadata": {},
   "source": [
    "# Bitwise Operators"
   ]
  },
  {
   "cell_type": "code",
   "execution_count": 6,
   "id": "644f27dd",
   "metadata": {},
   "outputs": [
    {
     "name": "stdout",
     "output_type": "stream",
     "text": [
      "0\n",
      "14\n",
      "2\n",
      "40\n"
     ]
    }
   ],
   "source": [
    "a = 10\n",
    "b = 4\n",
    "print(a & b)\n",
    "print(a | b)\n",
    "print(~a)\n",
    "print(a ^ b)\n",
    "print(a >> 2)\n",
    "print(a << 2)"
   ]
  },
  {
   "cell_type": "markdown",
   "id": "5aeb6dfa",
   "metadata": {},
   "source": [
    "a = 10\n",
    "\n",
    "a = 1010 (Binary)\n",
    "\n",
    "AND \n",
    "\n",
    "b = 0100 (Binary)\n",
    "\n",
    "0000  \n",
    "\n",
    "\n",
    "a = 10\n",
    "\n",
    "a = 1010 (Binary)\n",
    "\n",
    "OR \n",
    "\n",
    "b = 0100 (Binary)\n",
    "\n",
    "1110 = 14\n",
    "\n",
    "a = 10\n",
    "a = 0000 1010\n",
    "a >> 2 \n",
    "a=  0000 0010 = 2 \n",
    "\n",
    "a << 2\n",
    "a = 0000 1010\n",
    "a << 2 \n",
    "a = 0010 1000\n",
    "\n",
    "32 + 8 = 40\n",
    "\n",
    "a = 1010\n",
    "b = 0100\n",
    "\n",
    "a ^ b = 1110 (xor gate)\n",
    "8 + 4 + 2 =14\n"
   ]
  }
 ],
 "metadata": {
  "kernelspec": {
   "display_name": "Python 3 (ipykernel)",
   "language": "python",
   "name": "python3"
  },
  "language_info": {
   "codemirror_mode": {
    "name": "ipython",
    "version": 3
   },
   "file_extension": ".py",
   "mimetype": "text/x-python",
   "name": "python",
   "nbconvert_exporter": "python",
   "pygments_lexer": "ipython3",
   "version": "3.9.12"
  }
 },
 "nbformat": 4,
 "nbformat_minor": 5
}
