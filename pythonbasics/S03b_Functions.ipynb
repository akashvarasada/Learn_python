{
 "cells": [
  {
   "cell_type": "code",
   "execution_count": 1,
   "id": "10a39d5e",
   "metadata": {},
   "outputs": [],
   "source": [
    "def func1():\n",
    "      print(\"Hello from a first function\")\n"
   ]
  },
  {
   "cell_type": "code",
   "execution_count": 2,
   "id": "d8ff9f48",
   "metadata": {},
   "outputs": [
    {
     "data": {
      "text/plain": [
       "<function __main__.func1()>"
      ]
     },
     "execution_count": 2,
     "metadata": {},
     "output_type": "execute_result"
    }
   ],
   "source": [
    "func1"
   ]
  },
  {
   "cell_type": "code",
   "execution_count": 3,
   "id": "0ba975c2",
   "metadata": {},
   "outputs": [
    {
     "name": "stdout",
     "output_type": "stream",
     "text": [
      "Hello from a first function\n"
     ]
    }
   ],
   "source": [
    "func1()"
   ]
  },
  {
   "cell_type": "code",
   "execution_count": 4,
   "id": "1690140f",
   "metadata": {},
   "outputs": [],
   "source": [
    "def added(a,b):\n",
    "    print(a + b)"
   ]
  },
  {
   "cell_type": "code",
   "execution_count": 5,
   "id": "ce14f51d",
   "metadata": {},
   "outputs": [
    {
     "name": "stdout",
     "output_type": "stream",
     "text": [
      "8\n"
     ]
    }
   ],
   "source": [
    "added(5,3)"
   ]
  },
  {
   "cell_type": "code",
   "execution_count": 8,
   "id": "3dfd0db3",
   "metadata": {},
   "outputs": [],
   "source": [
    "def greeting(name):\n",
    "    print(\"Hello\", name)"
   ]
  },
  {
   "cell_type": "code",
   "execution_count": 10,
   "id": "c9b04bbc",
   "metadata": {},
   "outputs": [
    {
     "name": "stdout",
     "output_type": "stream",
     "text": [
      "Hello Akash\n"
     ]
    }
   ],
   "source": [
    "greeting(\"Akash\")"
   ]
  },
  {
   "cell_type": "code",
   "execution_count": 11,
   "id": "d71dbe8d",
   "metadata": {},
   "outputs": [],
   "source": [
    "def splitter(name):\n",
    "    for i in name:\n",
    "        print(i)\n",
    "    "
   ]
  },
  {
   "cell_type": "code",
   "execution_count": 12,
   "id": "dc4985ca",
   "metadata": {},
   "outputs": [
    {
     "name": "stdout",
     "output_type": "stream",
     "text": [
      "A\n",
      "k\n",
      "a\n",
      "s\n",
      "h\n"
     ]
    }
   ],
   "source": [
    "splitter(\"Akash\")"
   ]
  },
  {
   "cell_type": "code",
   "execution_count": 27,
   "id": "9f4e0474",
   "metadata": {},
   "outputs": [],
   "source": [
    "def multiple(*numbers):\n",
    "    print(numbers)  \n",
    "    "
   ]
  },
  {
   "cell_type": "code",
   "execution_count": 28,
   "id": "937420fd",
   "metadata": {},
   "outputs": [
    {
     "name": "stdout",
     "output_type": "stream",
     "text": [
      "(5, 6, 7)\n"
     ]
    }
   ],
   "source": [
    "multi_added(5,6,7)"
   ]
  },
  {
   "cell_type": "markdown",
   "id": "a5ac8cb4",
   "metadata": {},
   "source": [
    "# args & kwargs "
   ]
  },
  {
   "cell_type": "code",
   "execution_count": 6,
   "id": "3afd1f69",
   "metadata": {},
   "outputs": [],
   "source": [
    "def mylist(*argv):\n",
    "    for i in argv:\n",
    "        print(i)"
   ]
  },
  {
   "cell_type": "code",
   "execution_count": 7,
   "id": "acf0de0f",
   "metadata": {},
   "outputs": [
    {
     "name": "stdout",
     "output_type": "stream",
     "text": [
      "1\n",
      "2\n",
      "3\n"
     ]
    }
   ],
   "source": [
    "mylist(1,2,3)"
   ]
  },
  {
   "cell_type": "code",
   "execution_count": 12,
   "id": "3cb14ef0",
   "metadata": {},
   "outputs": [],
   "source": [
    "def mydictonary(**kwargs):\n",
    "    for key, value in kwargs.items():\n",
    "        print(\"%s == %s\" % (key, value))"
   ]
  },
  {
   "cell_type": "code",
   "execution_count": 13,
   "id": "266faba1",
   "metadata": {
    "scrolled": true
   },
   "outputs": [
    {
     "name": "stdout",
     "output_type": "stream",
     "text": [
      "Name == Akash\n",
      "Course == Datascience\n",
      "college == BITS\n"
     ]
    }
   ],
   "source": [
    "mydictonary(Name = \"Akash\" , Course = \"Datascience\" , college = \"BITS\")"
   ]
  },
  {
   "cell_type": "markdown",
   "id": "99c19295",
   "metadata": {},
   "source": [
    "# what is the diff between *args & **kwargs"
   ]
  },
  {
   "cell_type": "code",
   "execution_count": 14,
   "id": "bf1510f7",
   "metadata": {},
   "outputs": [],
   "source": [
    "def argument(*args, **kwargs):\n",
    "    print(\"args: \", args)\n",
    "    print(\"kwargs: \", kwargs)"
   ]
  },
  {
   "cell_type": "code",
   "execution_count": 15,
   "id": "9a46ca03",
   "metadata": {},
   "outputs": [
    {
     "name": "stdout",
     "output_type": "stream",
     "text": [
      "args:  ('geeks', 'for', 'geeks')\n",
      "kwargs:  {'first': '1', 'mid': '2', 'last': '3'}\n"
     ]
    }
   ],
   "source": [
    "argument('geeks', 'for', 'geeks', first=\"1\", mid=\"2\", last=\"3\")"
   ]
  },
  {
   "cell_type": "code",
   "execution_count": 17,
   "id": "1fdbd6cc",
   "metadata": {},
   "outputs": [],
   "source": [
    "def default(country = \"india\"):\n",
    "      print(\"I am from \" + country)\n"
   ]
  },
  {
   "cell_type": "code",
   "execution_count": 18,
   "id": "1703c584",
   "metadata": {},
   "outputs": [
    {
     "name": "stdout",
     "output_type": "stream",
     "text": [
      "I am from india\n"
     ]
    }
   ],
   "source": [
    "default()"
   ]
  },
  {
   "cell_type": "code",
   "execution_count": 42,
   "id": "5fdc9e30",
   "metadata": {},
   "outputs": [
    {
     "name": "stdout",
     "output_type": "stream",
     "text": [
      "I am from UAE\n"
     ]
    }
   ],
   "source": [
    "default(\"UAE\")\n",
    "\n"
   ]
  },
  {
   "cell_type": "markdown",
   "id": "2b1a5516",
   "metadata": {},
   "source": [
    "# Return value"
   ]
  },
  {
   "cell_type": "code",
   "execution_count": 43,
   "id": "09453344",
   "metadata": {},
   "outputs": [],
   "source": [
    "def return_square(x):\n",
    "      return x * x\n"
   ]
  },
  {
   "cell_type": "code",
   "execution_count": 44,
   "id": "6aaf4f0a",
   "metadata": {},
   "outputs": [
    {
     "data": {
      "text/plain": [
       "16"
      ]
     },
     "execution_count": 44,
     "metadata": {},
     "output_type": "execute_result"
    }
   ],
   "source": [
    "return_square(4)"
   ]
  },
  {
   "cell_type": "code",
   "execution_count": 50,
   "id": "8235294f",
   "metadata": {},
   "outputs": [],
   "source": [
    "def return_specific(x):\n",
    "    a = x\n",
    "    b = x * x \n",
    "    c = x * x * x\n",
    "    d = a + b + c \n",
    "    return d,a"
   ]
  },
  {
   "cell_type": "code",
   "execution_count": 51,
   "id": "23cfc4e6",
   "metadata": {},
   "outputs": [
    {
     "data": {
      "text/plain": [
       "(155, 5)"
      ]
     },
     "execution_count": 51,
     "metadata": {},
     "output_type": "execute_result"
    }
   ],
   "source": [
    "return_specific(5)"
   ]
  },
  {
   "cell_type": "code",
   "execution_count": 53,
   "id": "16054d15",
   "metadata": {},
   "outputs": [],
   "source": [
    "def blankfunction():\n",
    "      pass\n"
   ]
  },
  {
   "cell_type": "code",
   "execution_count": 54,
   "id": "5ddfa036",
   "metadata": {},
   "outputs": [],
   "source": [
    "blankfunction()"
   ]
  },
  {
   "cell_type": "markdown",
   "id": "692b0f89",
   "metadata": {},
   "source": [
    "# Recurssive function"
   ]
  },
  {
   "cell_type": "code",
   "execution_count": 10,
   "id": "c0feae6c",
   "metadata": {},
   "outputs": [],
   "source": [
    "def fact(x):\n",
    "    x = int(x)\n",
    "    \n",
    "    if x < 1:\n",
    "        return 1\n",
    "    else:\n",
    "        return x * fact(x-1)\n",
    "\n",
    "    "
   ]
  },
  {
   "cell_type": "code",
   "execution_count": 11,
   "id": "711cc32e",
   "metadata": {},
   "outputs": [
    {
     "data": {
      "text/plain": [
       "120"
      ]
     },
     "execution_count": 11,
     "metadata": {},
     "output_type": "execute_result"
    }
   ],
   "source": [
    "fact(5)"
   ]
  },
  {
   "cell_type": "markdown",
   "id": "67ce1bb2",
   "metadata": {},
   "source": [
    "# Lamda Functions"
   ]
  },
  {
   "cell_type": "code",
   "execution_count": 15,
   "id": "916f7872",
   "metadata": {},
   "outputs": [
    {
     "name": "stdout",
     "output_type": "stream",
     "text": [
      "15\n"
     ]
    }
   ],
   "source": [
    "x = lambda a : a + 10\n",
    "print(x(5))\n"
   ]
  },
  {
   "cell_type": "code",
   "execution_count": 21,
   "id": "3451a20c",
   "metadata": {},
   "outputs": [
    {
     "name": "stdout",
     "output_type": "stream",
     "text": [
      "30\n"
     ]
    }
   ],
   "source": [
    "x = lambda a, b : a * b\n",
    "print(x(5, 6))\n"
   ]
  },
  {
   "cell_type": "code",
   "execution_count": 32,
   "id": "26cc76b5",
   "metadata": {},
   "outputs": [
    {
     "name": "stdout",
     "output_type": "stream",
     "text": [
      "akash\n"
     ]
    }
   ],
   "source": [
    "x = lambda a : a.lower()\n",
    "print(x(\"AKASH\"))"
   ]
  },
  {
   "cell_type": "code",
   "execution_count": 34,
   "id": "9523c59d",
   "metadata": {},
   "outputs": [],
   "source": [
    "def lowerfunc(a):\n",
    "    return a.lower()"
   ]
  },
  {
   "cell_type": "code",
   "execution_count": 35,
   "id": "e14bad83",
   "metadata": {},
   "outputs": [
    {
     "data": {
      "text/plain": [
       "'akash'"
      ]
     },
     "execution_count": 35,
     "metadata": {},
     "output_type": "execute_result"
    }
   ],
   "source": [
    "lowerfunc(\"Akash\")"
   ]
  },
  {
   "cell_type": "code",
   "execution_count": null,
   "id": "6f927173",
   "metadata": {},
   "outputs": [],
   "source": []
  }
 ],
 "metadata": {
  "kernelspec": {
   "display_name": "Python 3 (ipykernel)",
   "language": "python",
   "name": "python3"
  },
  "language_info": {
   "codemirror_mode": {
    "name": "ipython",
    "version": 3
   },
   "file_extension": ".py",
   "mimetype": "text/x-python",
   "name": "python",
   "nbconvert_exporter": "python",
   "pygments_lexer": "ipython3",
   "version": "3.9.12"
  }
 },
 "nbformat": 4,
 "nbformat_minor": 5
}
