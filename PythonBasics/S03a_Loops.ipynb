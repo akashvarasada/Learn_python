{
 "cells": [
  {
   "cell_type": "markdown",
   "id": "355b18d7",
   "metadata": {},
   "source": [
    "# Python Loops"
   ]
  },
  {
   "cell_type": "markdown",
   "id": "9da5e6bf",
   "metadata": {},
   "source": [
    "# While Loop"
   ]
  },
  {
   "cell_type": "code",
   "execution_count": null,
   "id": "997fdfe5",
   "metadata": {},
   "outputs": [],
   "source": [
    "a = 1\n",
    "while a < 9:\n",
    "    print(\"Hello \", a , \"Times\")\n",
    "    a+=1"
   ]
  },
  {
   "cell_type": "code",
   "execution_count": null,
   "id": "a55259c0",
   "metadata": {},
   "outputs": [],
   "source": [
    "a = 1\n",
    "while a <= 9:\n",
    "    print(\"Hello \", a , \"Times\")\n",
    "    a+=1"
   ]
  },
  {
   "cell_type": "markdown",
   "id": "76973f9b",
   "metadata": {},
   "source": [
    "a = 1\n",
    "while a <= 9:\n",
    "    print(\"Hello \", a , \"Times\")"
   ]
  },
  {
   "cell_type": "code",
   "execution_count": null,
   "id": "c6f5fb18",
   "metadata": {},
   "outputs": [],
   "source": [
    "#While loops needs an end condition."
   ]
  },
  {
   "cell_type": "markdown",
   "id": "79323b05",
   "metadata": {},
   "source": [
    "# For Loop"
   ]
  },
  {
   "cell_type": "code",
   "execution_count": null,
   "id": "3057fee2",
   "metadata": {},
   "outputs": [],
   "source": [
    "a = 1\n",
    "for a in range(10):\n",
    "    print(\"Hello\",a,\"times\")\n",
    "    "
   ]
  },
  {
   "cell_type": "code",
   "execution_count": null,
   "id": "c661c339",
   "metadata": {},
   "outputs": [],
   "source": [
    "info = [\"Akash\",\"Datascience\",\"BITSpilani\",\"Rajkot\",\"badminton\"]\n",
    "\n",
    "for x in info:\n",
    "      print(x)\n"
   ]
  },
  {
   "cell_type": "code",
   "execution_count": null,
   "id": "d65ef516",
   "metadata": {},
   "outputs": [],
   "source": [
    "tup1 = (\"Akash\",\"Datascience\",\"BITSpilani\",\"Rajkot\",\"badminton\")\n",
    "\n",
    "for x in tup1:\n",
    "      print(x)\n"
   ]
  },
  {
   "cell_type": "code",
   "execution_count": null,
   "id": "5b2547f7",
   "metadata": {},
   "outputs": [],
   "source": [
    "set1 ={\"Akash\",\"Datascience\",\"BITSpilani\",\"Rajkot\",\"badminton\"}\n",
    "\n",
    "for x in set1:\n",
    "      print(x)"
   ]
  },
  {
   "cell_type": "code",
   "execution_count": null,
   "id": "9ed9c3f3",
   "metadata": {
    "scrolled": true
   },
   "outputs": [],
   "source": [
    "d1= {\"Name\":\"Akash\",\"Domain\":\"Datascience\",\"Alumni\": \"BITSpilani\",\"Location\":\"Rajkot\",\"sport\":\"bedminton\"}\n",
    "\n",
    "for x in d1:\n",
    "      print(x)"
   ]
  },
  {
   "cell_type": "code",
   "execution_count": null,
   "id": "dc159d50",
   "metadata": {},
   "outputs": [],
   "source": [
    "d1= {\"Name\":\"Akash\",\"Domain\":\"Datascience\",\"Alumni\": \"BITSpilani\",\"Location\":\"Rajkot\",\"sport\":\"bedminton\"}\n",
    "\n",
    "for x in d1.values():\n",
    "      print(x)"
   ]
  },
  {
   "cell_type": "code",
   "execution_count": null,
   "id": "9804ba06",
   "metadata": {},
   "outputs": [],
   "source": [
    "d1= {\"Name\":\"Akash\",\"Domain\":\"Datascience\",\"Alumni\": \"BITSpilani\",\"Location\":\"Rajkot\",\"sport\":\"bedminton\"}\n",
    "\n",
    "for x in d1.items():\n",
    "      print(x)"
   ]
  },
  {
   "cell_type": "code",
   "execution_count": null,
   "id": "d60597a4",
   "metadata": {},
   "outputs": [],
   "source": [
    "for i in range(8):\n",
    "    print(\"#\" *i )"
   ]
  },
  {
   "cell_type": "code",
   "execution_count": null,
   "id": "35f21486",
   "metadata": {},
   "outputs": [],
   "source": [
    "for i in range(2,10):\n",
    "    print(i)"
   ]
  },
  {
   "cell_type": "code",
   "execution_count": null,
   "id": "a6d77851",
   "metadata": {},
   "outputs": [],
   "source": [
    "for i in range(2,10,2):\n",
    "    print(i)"
   ]
  },
  {
   "cell_type": "markdown",
   "id": "1316bdb8",
   "metadata": {},
   "source": [
    "# Pass,Continue & Break & else statements"
   ]
  },
  {
   "cell_type": "code",
   "execution_count": null,
   "id": "d1a0ab32",
   "metadata": {},
   "outputs": [],
   "source": [
    "#pass\n",
    "I want to print the only even numbers from 1 to 30"
   ]
  },
  {
   "cell_type": "code",
   "execution_count": null,
   "id": "8dae42be",
   "metadata": {},
   "outputs": [],
   "source": [
    "#pass\n",
    "#I want to print the only even numbers from 1 to 30\n",
    "\n",
    "for i in range(1,31):\n",
    "    \n",
    "    if (i%2==0):\n",
    "        pass\n",
    "    else:\n",
    "        print(i)\n",
    "print(\"loop ended\")    \n",
    "    "
   ]
  },
  {
   "cell_type": "code",
   "execution_count": null,
   "id": "974adbdf",
   "metadata": {},
   "outputs": [],
   "source": [
    "#pass\n",
    "#I want to print the only even numbers from 1 to 30\n",
    "\n",
    "i=1\n",
    "while i < 30:\n",
    "    if(i%2==0):\n",
    "        pass\n",
    "    else:\n",
    "        print(i)\n",
    "    i+=1\n",
    "print(\"loop ended\") "
   ]
  },
  {
   "cell_type": "code",
   "execution_count": null,
   "id": "b43c6f93",
   "metadata": {},
   "outputs": [],
   "source": [
    "#Continue\n",
    "#I want to print the numbers which are divisible by 5 among 1 to 100."
   ]
  },
  {
   "cell_type": "code",
   "execution_count": null,
   "id": "48110c35",
   "metadata": {},
   "outputs": [],
   "source": [
    "#Continue\n",
    "#I want to print the numbers which are divisible by 5 among 1 to 100.\n",
    "\n",
    "for i in range(1,101):\n",
    "    if (i%5!=0):\n",
    "        continue\n",
    "    else:\n",
    "        print(i)\n",
    "print(\"loop ended\") "
   ]
  },
  {
   "cell_type": "code",
   "execution_count": null,
   "id": "3b110d26",
   "metadata": {},
   "outputs": [],
   "source": [
    "#Continue\n",
    "#I want to print the numbers which are divisible by 5 among 1 to 100.\n",
    "\n",
    "i =1\n",
    "\n",
    "while i < 101:\n",
    "    if(i%5==0):\n",
    "        print(i)\n",
    "    else:\n",
    "        pass\n",
    "    i+=1\n",
    "print(\"loop ended\") "
   ]
  },
  {
   "cell_type": "code",
   "execution_count": null,
   "id": "e6007355",
   "metadata": {},
   "outputs": [],
   "source": [
    "#break\n",
    "#imagine in a wending machine there are 5 candies and when user enters value more that that it should display \"out of stock\"."
   ]
  },
  {
   "cell_type": "code",
   "execution_count": null,
   "id": "f4ffb7ca",
   "metadata": {},
   "outputs": [],
   "source": [
    "#break\n",
    "#imagine in a wending machine there are 5 candies and when user enters value more that that it should display \"out of stock\".\n",
    "\n",
    "stock = 5\n",
    "x = int(input(\"how many candies you want?\"))\n",
    "print(\"Oh! You want\", x, \"candies\")\n",
    "\n",
    "for i in range(x):\n",
    "    if i > stock:\n",
    "        print(\"sorry We are out of candies.come tomorrow\")\n",
    "        break\n",
    "    else:\n",
    "        print(\"here is your candy\")\n",
    "        \n",
    "print(\"loop ended\")  "
   ]
  },
  {
   "cell_type": "code",
   "execution_count": null,
   "id": "95f5e9c0",
   "metadata": {},
   "outputs": [],
   "source": [
    "#break\n",
    "#imagine in a wending machine there are 5 candies and when user enters value more that that it should display \"out of stock\".\n",
    "i = 1\n",
    "stock = 5\n",
    "x = int(input(\"how many candies you want?\"))\n",
    "print(\"Oh! You want\", x, \"candies\")\n",
    "\n",
    "while i < 100:\n",
    "    if i > stock:\n",
    "        print(\"sorry We are out of candies.come tomorrow\")\n",
    "        break\n",
    "    else:\n",
    "        print(\"here is your candy\")\n",
    "    i+=1\n",
    "print(\"loop ended\")    "
   ]
  },
  {
   "cell_type": "markdown",
   "id": "b47d0394",
   "metadata": {},
   "source": [
    "# Nested Loops"
   ]
  },
  {
   "cell_type": "code",
   "execution_count": 3,
   "id": "05f5f871",
   "metadata": {},
   "outputs": [
    {
     "name": "stdout",
     "output_type": "stream",
     "text": [
      "1 a\n",
      "1 b\n",
      "1 c\n",
      "1 d\n",
      "1 e\n",
      "2 a\n",
      "2 b\n",
      "2 c\n",
      "2 d\n",
      "2 e\n",
      "3 a\n",
      "3 b\n",
      "3 c\n",
      "3 d\n",
      "3 e\n",
      "4 a\n",
      "4 b\n",
      "4 c\n",
      "4 d\n",
      "4 e\n",
      "5 a\n",
      "5 b\n",
      "5 c\n",
      "5 d\n",
      "5 e\n"
     ]
    }
   ],
   "source": [
    "a = [1,2,3,4,5]\n",
    "b = [\"a\",\"b\",\"c\",\"d\",\"e\"]\n",
    "\n",
    "for i in a:\n",
    "    for j in b:\n",
    "        print(i,j)"
   ]
  },
  {
   "cell_type": "code",
   "execution_count": 1,
   "id": "a761cb77",
   "metadata": {},
   "outputs": [
    {
     "ename": "IndentationError",
     "evalue": "expected an indented block (2213876541.py, line 1)",
     "output_type": "error",
     "traceback": [
      "\u001b[1;36m  Input \u001b[1;32mIn [1]\u001b[1;36m\u001b[0m\n\u001b[1;33m    for i in range(10):\u001b[0m\n\u001b[1;37m                       ^\u001b[0m\n\u001b[1;31mIndentationError\u001b[0m\u001b[1;31m:\u001b[0m expected an indented block\n"
     ]
    }
   ],
   "source": [
    "for i in range(10):"
   ]
  },
  {
   "cell_type": "code",
   "execution_count": 2,
   "id": "a9f466df",
   "metadata": {},
   "outputs": [],
   "source": [
    "for i in range(10):\n",
    "    pass"
   ]
  },
  {
   "cell_type": "markdown",
   "id": "0123c4e4",
   "metadata": {},
   "source": [
    "# For additional practice"
   ]
  },
  {
   "cell_type": "code",
   "execution_count": null,
   "id": "d0c0766a",
   "metadata": {},
   "outputs": [],
   "source": [
    "s = \"Akash\"\n",
    " \n",
    "# Continue statement\n",
    "for i in s:\n",
    "    if i == 'k':\n",
    "        #print('Continue executed')\n",
    "        continue\n",
    "    else:\n",
    "        print(i)"
   ]
  },
  {
   "cell_type": "code",
   "execution_count": null,
   "id": "6582074e",
   "metadata": {},
   "outputs": [],
   "source": [
    "s = \"Akash\"\n",
    " \n",
    "# Break statement\n",
    "for i in s:\n",
    "    if i == 'k':\n",
    "        print('Break executed')\n",
    "        break\n",
    "    else:\n",
    "        print(i)"
   ]
  },
  {
   "cell_type": "code",
   "execution_count": null,
   "id": "9d0056c5",
   "metadata": {},
   "outputs": [],
   "source": [
    "s = \"Akash\"\n",
    " \n",
    "# Pass statement\n",
    "for i in s:\n",
    "    if i == 'k':\n",
    "        print('Yes')\n",
    "    else:\n",
    "        print(i)"
   ]
  },
  {
   "cell_type": "code",
   "execution_count": null,
   "id": "09ba79d9",
   "metadata": {},
   "outputs": [],
   "source": [
    "#indentation\n",
    "s = \"Akash\"\n",
    " \n",
    "# Pass statement\n",
    "for i in s:\n",
    "    if i == 'k':\n",
    "        print('Continue executed')\n",
    "else:\n",
    "    print(i)"
   ]
  },
  {
   "cell_type": "markdown",
   "id": "1f823f72",
   "metadata": {},
   "source": [
    "# While loop"
   ]
  },
  {
   "cell_type": "code",
   "execution_count": null,
   "id": "81b3412e",
   "metadata": {},
   "outputs": [],
   "source": [
    "nums = [7, 2, 3, 1, 5, 4, 6, 8, 9]\n",
    "count = 0\n",
    "while count < 7:\n",
    "    print(nums[count])\n",
    "    count += 1\n",
    "    if nums[count] == 4:\n",
    "        break\n",
    "print(\"End\")\n"
   ]
  },
  {
   "cell_type": "code",
   "execution_count": null,
   "id": "e6a791f7",
   "metadata": {},
   "outputs": [],
   "source": [
    "nums = [7, 2, 3, 1, 5, 4, 6, 8, 9]\n",
    "count = 0\n",
    "while count < 7:\n",
    "    print(nums[count])\n",
    "    count += 1\n",
    "    if nums[count] == 4:\n",
    "        pass\n",
    "print(\"End\")\n"
   ]
  },
  {
   "cell_type": "code",
   "execution_count": null,
   "id": "95e8b4a3",
   "metadata": {},
   "outputs": [],
   "source": [
    "nums = [7, 2, 3, 1, 5, 4, 6, 8, 9]\n",
    "count = 0\n",
    "while count < 7:\n",
    "    print(nums[count])\n",
    "    count += 1\n",
    "    if nums[count] == 4:\n",
    "        continue\n",
    "print(\"End\")"
   ]
  },
  {
   "cell_type": "code",
   "execution_count": null,
   "id": "2c351110",
   "metadata": {},
   "outputs": [],
   "source": [
    "i = 0\n",
    "while i < 4:\n",
    "    i += 1\n",
    "    print(i)\n",
    "else:  # Not executed as there is a break\n",
    "    print(\"This is the else block executing\")"
   ]
  },
  {
   "cell_type": "code",
   "execution_count": null,
   "id": "53c9f608",
   "metadata": {},
   "outputs": [],
   "source": []
  },
  {
   "cell_type": "code",
   "execution_count": null,
   "id": "f3c26498",
   "metadata": {},
   "outputs": [],
   "source": []
  }
 ],
 "metadata": {
  "kernelspec": {
   "display_name": "Python 3 (ipykernel)",
   "language": "python",
   "name": "python3"
  },
  "language_info": {
   "codemirror_mode": {
    "name": "ipython",
    "version": 3
   },
   "file_extension": ".py",
   "mimetype": "text/x-python",
   "name": "python",
   "nbconvert_exporter": "python",
   "pygments_lexer": "ipython3",
   "version": "3.9.12"
  }
 },
 "nbformat": 4,
 "nbformat_minor": 5
}
