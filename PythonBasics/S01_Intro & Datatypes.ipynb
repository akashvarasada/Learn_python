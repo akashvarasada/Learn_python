{
 "cells": [
  {
   "cell_type": "code",
   "execution_count": 2,
   "id": "d49eafca",
   "metadata": {},
   "outputs": [
    {
     "name": "stdout",
     "output_type": "stream",
     "text": [
      "Hello Class\n"
     ]
    }
   ],
   "source": [
    "print(\"Hello Class\")"
   ]
  },
  {
   "cell_type": "markdown",
   "id": "d98e40e8",
   "metadata": {},
   "source": [
    "# Datatypes"
   ]
  },
  {
   "cell_type": "code",
   "execution_count": 3,
   "id": "be6c5b70",
   "metadata": {},
   "outputs": [],
   "source": [
    "v1 = 5\n",
    "v2 = 5.3\n",
    "v3 = -45.787979\n",
    "v4 = \"101\"\n",
    "v5 = \"Python\"\n",
    "v6 = \"python\"\n",
    "v7 = ['one','two','three','four']\n",
    "v8 = [1,2,3,4,5]\n",
    "v9 = (1,2,3,4)\n",
    "v10 = {'one':1,'two':2,'three':3}\n",
    "v11 = \"true\"\n",
    "v12 = 5 + 4j\n",
    "v13 = 10>9\n",
    "v14 = 123==134"
   ]
  },
  {
   "cell_type": "code",
   "execution_count": 4,
   "id": "b6ef2163",
   "metadata": {},
   "outputs": [
    {
     "name": "stdout",
     "output_type": "stream",
     "text": [
      "<class 'int'>\n",
      "<class 'float'>\n",
      "<class 'float'>\n",
      "<class 'str'>\n",
      "<class 'str'>\n",
      "<class 'str'>\n",
      "<class 'list'>\n",
      "<class 'list'>\n",
      "<class 'tuple'>\n",
      "<class 'dict'>\n",
      "<class 'str'>\n",
      "<class 'complex'>\n",
      "<class 'bool'>\n",
      "<class 'bool'>\n"
     ]
    }
   ],
   "source": [
    "print(type(v1))\n",
    "print(type(v2))\n",
    "print(type(v3))\n",
    "print(type(v4))\n",
    "print(type(v5))\n",
    "print(type(v6))\n",
    "print(type(v7))\n",
    "print(type(v8))\n",
    "print(type(v9))\n",
    "print(type(v10))\n",
    "print(type(v11))\n",
    "print(type(v12))\n",
    "print(type(v13))\n",
    "print(type(v14))"
   ]
  },
  {
   "cell_type": "markdown",
   "id": "58caa828",
   "metadata": {},
   "source": [
    "# lists"
   ]
  },
  {
   "cell_type": "code",
   "execution_count": 7,
   "id": "cd9d1237",
   "metadata": {},
   "outputs": [
    {
     "name": "stdout",
     "output_type": "stream",
     "text": [
      "['Akash', 'Datascience', 'BITSpilani', 'Rajkot', 'badminton']\n",
      "5\n",
      "<class 'list'>\n"
     ]
    }
   ],
   "source": [
    "info = [\"Akash\",\"Datascience\",\"BITSpilani\",\"Rajkot\",\"badminton\"]\n",
    "print(info)\n",
    "print(len(info))\n",
    "print(type(info))"
   ]
  },
  {
   "cell_type": "code",
   "execution_count": 9,
   "id": "e7bbc6c5",
   "metadata": {},
   "outputs": [
    {
     "name": "stdout",
     "output_type": "stream",
     "text": [
      "['Akash', 'Datascience', 'BITSpilani', 'Rajkot', 'badminton']\n",
      "Datascience\n",
      "BITSpilani\n",
      "['Datascience', 'BITSpilani', 'Rajkot', 'badminton']\n",
      "['Akash']\n",
      "['Akash', 'Datascience', 'BITSpilani', 'Rajkot']\n",
      "['Akash', 'Datascience', 'BITSpilani']\n"
     ]
    }
   ],
   "source": [
    "print(info)\n",
    "#print(info[])\n",
    "print(info[1])\n",
    "print(info[2])\n",
    "print(info[1:])\n",
    "print(info[:1])\n",
    "print(info[:-1])\n",
    "print(info[:-2])"
   ]
  },
  {
   "cell_type": "code",
   "execution_count": 13,
   "id": "8738c3db",
   "metadata": {},
   "outputs": [
    {
     "name": "stdout",
     "output_type": "stream",
     "text": [
      "Akash\n",
      "None\n",
      "<class 'NoneType'>\n"
     ]
    }
   ],
   "source": [
    "name =print(info[0])\n",
    "print(name)\n",
    "print(type(name))"
   ]
  },
  {
   "cell_type": "code",
   "execution_count": 38,
   "id": "669fbf44",
   "metadata": {},
   "outputs": [
    {
     "name": "stdout",
     "output_type": "stream",
     "text": [
      "1\n",
      "2\n",
      "None\n",
      "['Akash', 'Datascience', 'BITSpilani', 'Mountains', 'Rajkot', 'badminton']\n",
      "badminton\n",
      "['Akash', 'Datascience', 'BITSpilani', 'Mountains', 'Rajkot']\n",
      "None\n",
      "None\n",
      "['Rajkot', 'Mountains', 'Datascience', 'Akash']\n",
      "None\n",
      "['Akash', 'Datascience', 'Mountains', 'Rajkot']\n",
      "None\n",
      "[]\n"
     ]
    }
   ],
   "source": [
    "info = [\"Akash\",\"Datascience\",\"BITSpilani\",\"Rajkot\",\"badminton\"]\n",
    "print(info.count(\"BITSpilani\"))\n",
    "print(info.index(\"BITSpilani\"))\n",
    "print(info.insert(3,\"Mountains\"))\n",
    "print(info)\n",
    "print(info.pop())\n",
    "print(info)\n",
    "print(info.remove(\"BITSpilani\"))\n",
    "print(info.reverse())\n",
    "print(info)\n",
    "print(info.sort())\n",
    "print(info)\n",
    "print(info.clear())\n",
    "print(info)"
   ]
  },
  {
   "cell_type": "code",
   "execution_count": 39,
   "id": "fc3e0ef5",
   "metadata": {},
   "outputs": [
    {
     "name": "stdout",
     "output_type": "stream",
     "text": [
      "['Akash', 'Datascience', 'BITSpilani', 'Rajkot', 'badminton']\n",
      "['Datascience', 'BITSpilani', 'Rajkot', 'badminton']\n"
     ]
    }
   ],
   "source": [
    "#delete specific object\n",
    "info = [\"Akash\",\"Datascience\",\"BITSpilani\",\"Rajkot\",\"badminton\"]\n",
    "print(info)\n",
    "del info[0]\n",
    "print(info)"
   ]
  },
  {
   "cell_type": "code",
   "execution_count": 40,
   "id": "0ce25d4b",
   "metadata": {},
   "outputs": [
    {
     "name": "stdout",
     "output_type": "stream",
     "text": [
      "['Akash', 'Datascience', 'BITSpilani', 'Rajkot', 'badminton']\n"
     ]
    },
    {
     "ename": "NameError",
     "evalue": "name 'info' is not defined",
     "output_type": "error",
     "traceback": [
      "\u001b[1;31m---------------------------------------------------------------------------\u001b[0m",
      "\u001b[1;31mNameError\u001b[0m                                 Traceback (most recent call last)",
      "Input \u001b[1;32mIn [40]\u001b[0m, in \u001b[0;36m<cell line: 4>\u001b[1;34m()\u001b[0m\n\u001b[0;32m      2\u001b[0m \u001b[38;5;28mprint\u001b[39m(info)\n\u001b[0;32m      3\u001b[0m \u001b[38;5;28;01mdel\u001b[39;00m info\n\u001b[1;32m----> 4\u001b[0m \u001b[38;5;28mprint\u001b[39m(\u001b[43minfo\u001b[49m)\n",
      "\u001b[1;31mNameError\u001b[0m: name 'info' is not defined"
     ]
    }
   ],
   "source": [
    "info = [\"Akash\",\"Datascience\",\"BITSpilani\",\"Rajkot\",\"badminton\"]\n",
    "print(info)\n",
    "del info\n",
    "print(info)"
   ]
  },
  {
   "cell_type": "code",
   "execution_count": 25,
   "id": "2a3e8988",
   "metadata": {},
   "outputs": [
    {
     "name": "stdout",
     "output_type": "stream",
     "text": [
      "['Akash', 'Datascience', 'BITSpilani', 'Rajkot', 'badminton']\n"
     ]
    }
   ],
   "source": [
    "info = [\"Akash\",\"Datascience\",\"BITSpilani\",\"Rajkot\",\"badminton\"]\n",
    "myinfo = info\n",
    "print(myinfo)"
   ]
  },
  {
   "cell_type": "code",
   "execution_count": 26,
   "id": "049b9b0e",
   "metadata": {},
   "outputs": [
    {
     "name": "stdout",
     "output_type": "stream",
     "text": [
      "['Akash', 'Datascience', 'BITSpilani', 'Rajkot', 'badminton']\n"
     ]
    }
   ],
   "source": [
    "myinfo1 = info.copy()\n",
    "print(myinfo1)"
   ]
  },
  {
   "cell_type": "code",
   "execution_count": 27,
   "id": "a32ae53f",
   "metadata": {},
   "outputs": [
    {
     "name": "stdout",
     "output_type": "stream",
     "text": [
      "['Akash', 'Datascience', 'BITSpilani', 'Rajkot', 'badminton', 'Akash', 'Datascience', 'BITSpilani', 'Rajkot', 'badminton']\n"
     ]
    }
   ],
   "source": [
    "join = info + myinfo\n",
    "print(join)"
   ]
  },
  {
   "cell_type": "code",
   "execution_count": 28,
   "id": "0fd2ae78",
   "metadata": {},
   "outputs": [
    {
     "name": "stdout",
     "output_type": "stream",
     "text": [
      "[1, 2, 3, 4, 5, 6, 7, 8]\n"
     ]
    }
   ],
   "source": [
    "list1 = [1,2,3,4]\n",
    "list2 = [5,6,7,8]\n",
    "\n",
    "for x in list2:\n",
    "    list1.append(x)\n",
    "\n",
    "print(list1)"
   ]
  },
  {
   "cell_type": "code",
   "execution_count": 29,
   "id": "c37e8e9b",
   "metadata": {
    "scrolled": true
   },
   "outputs": [
    {
     "name": "stdout",
     "output_type": "stream",
     "text": [
      "['a', 'b', 'c', 'd', 'e', 'f']\n"
     ]
    }
   ],
   "source": [
    "list3 = [\"a\",\"b\",\"c\"]\n",
    "#list4 = [1,2,3]\n",
    "list4 = [\"d\",\"e\",\"f\"]\n",
    "\n",
    "for x in list4:\n",
    "    list3.extend(x)\n",
    "\n",
    "print(list3)\n",
    "\n",
    "#extend dont work on int"
   ]
  },
  {
   "cell_type": "markdown",
   "id": "35b557ff",
   "metadata": {},
   "source": [
    "# tuple"
   ]
  },
  {
   "cell_type": "code",
   "execution_count": 41,
   "id": "f551be3e",
   "metadata": {},
   "outputs": [
    {
     "name": "stdout",
     "output_type": "stream",
     "text": [
      "('Akash', 'Datascience', 'BITSpilani', 'Rajkot', 'badminton')\n"
     ]
    }
   ],
   "source": [
    "tup1 = (\"Akash\",\"Datascience\",\"BITSpilani\",\"Rajkot\",\"badminton\")\n",
    "print(tup1)"
   ]
  },
  {
   "cell_type": "code",
   "execution_count": 42,
   "id": "e6fef05c",
   "metadata": {},
   "outputs": [
    {
     "name": "stdout",
     "output_type": "stream",
     "text": [
      "Datascience\n",
      "('Datascience', 'BITSpilani', 'Rajkot')\n",
      "('Datascience', 'BITSpilani', 'Rajkot', 'badminton')\n",
      "('Akash',)\n",
      "('Akash', 'Datascience', 'BITSpilani')\n"
     ]
    }
   ],
   "source": [
    "print(tup1[1])\n",
    "print(tup1[1:4])\n",
    "print(tup1[1:])\n",
    "print(tup1[:1])\n",
    "print(tup1[:-2])"
   ]
  },
  {
   "cell_type": "code",
   "execution_count": 47,
   "id": "aa7c0c44",
   "metadata": {},
   "outputs": [
    {
     "name": "stdout",
     "output_type": "stream",
     "text": [
      "1\n",
      "2\n"
     ]
    }
   ],
   "source": [
    "print(tup1.count(\"BITSpilani\"))\n",
    "print(tup1.index(\"BITSpilani\"))"
   ]
  },
  {
   "cell_type": "code",
   "execution_count": 48,
   "id": "e893dd4e",
   "metadata": {},
   "outputs": [
    {
     "ename": "TypeError",
     "evalue": "'tuple' object does not support item assignment",
     "output_type": "error",
     "traceback": [
      "\u001b[1;31m---------------------------------------------------------------------------\u001b[0m",
      "\u001b[1;31mTypeError\u001b[0m                                 Traceback (most recent call last)",
      "Input \u001b[1;32mIn [48]\u001b[0m, in \u001b[0;36m<cell line: 1>\u001b[1;34m()\u001b[0m\n\u001b[1;32m----> 1\u001b[0m tup1[\u001b[38;5;241m-\u001b[39m\u001b[38;5;241m1\u001b[39m] \u001b[38;5;241m=\u001b[39m \u001b[38;5;124m\"\u001b[39m\u001b[38;5;124mcricket\u001b[39m\u001b[38;5;124m\"\u001b[39m\n",
      "\u001b[1;31mTypeError\u001b[0m: 'tuple' object does not support item assignment"
     ]
    }
   ],
   "source": [
    "tup1[-1] = \"cricket\""
   ]
  },
  {
   "cell_type": "code",
   "execution_count": 50,
   "id": "3f735ce3",
   "metadata": {},
   "outputs": [
    {
     "name": "stdout",
     "output_type": "stream",
     "text": [
      "('Akash', 'Datascience', 'BITSpilani', 'Rajkot', 'cricket')\n"
     ]
    }
   ],
   "source": [
    "templist1 =list(tup1)\n",
    "templist1[-1] = \"cricket\"\n",
    "tup2 = tuple(templist1)\n",
    "print(tup2)"
   ]
  },
  {
   "cell_type": "code",
   "execution_count": 51,
   "id": "f9711d4f",
   "metadata": {},
   "outputs": [
    {
     "name": "stdout",
     "output_type": "stream",
     "text": [
      "('Akash', 'Datascience', 'BITSpilani', 'Rajkot', 'badminton', 'Akash', 'Datascience', 'BITSpilani', 'Rajkot', 'cricket')\n"
     ]
    }
   ],
   "source": [
    "tup3 = tup1 + tup2\n",
    "print(tup3)"
   ]
  },
  {
   "cell_type": "code",
   "execution_count": 56,
   "id": "4eeb1566",
   "metadata": {},
   "outputs": [
    {
     "name": "stdout",
     "output_type": "stream",
     "text": [
      "('Akash', 'Datascience', 'BITSpilani', 'Rajkot', 'badminton')\n"
     ]
    },
    {
     "ename": "AttributeError",
     "evalue": "'tuple' object has no attribute 'clear'",
     "output_type": "error",
     "traceback": [
      "\u001b[1;31m---------------------------------------------------------------------------\u001b[0m",
      "\u001b[1;31mAttributeError\u001b[0m                            Traceback (most recent call last)",
      "Input \u001b[1;32mIn [56]\u001b[0m, in \u001b[0;36m<cell line: 3>\u001b[1;34m()\u001b[0m\n\u001b[0;32m      1\u001b[0m tup4 \u001b[38;5;241m=\u001b[39m \u001b[38;5;28mtuple\u001b[39m((\u001b[38;5;124m\"\u001b[39m\u001b[38;5;124mAkash\u001b[39m\u001b[38;5;124m\"\u001b[39m,\u001b[38;5;124m\"\u001b[39m\u001b[38;5;124mDatascience\u001b[39m\u001b[38;5;124m\"\u001b[39m,\u001b[38;5;124m\"\u001b[39m\u001b[38;5;124mBITSpilani\u001b[39m\u001b[38;5;124m\"\u001b[39m,\u001b[38;5;124m\"\u001b[39m\u001b[38;5;124mRajkot\u001b[39m\u001b[38;5;124m\"\u001b[39m,\u001b[38;5;124m\"\u001b[39m\u001b[38;5;124mbadminton\u001b[39m\u001b[38;5;124m\"\u001b[39m))\n\u001b[0;32m      2\u001b[0m \u001b[38;5;28mprint\u001b[39m(tup4)\n\u001b[1;32m----> 3\u001b[0m \u001b[43mtup4\u001b[49m\u001b[38;5;241;43m.\u001b[39;49m\u001b[43mclear\u001b[49m()\n\u001b[0;32m      4\u001b[0m \u001b[38;5;28mprint\u001b[39m(tup4)\n\u001b[0;32m      5\u001b[0m \u001b[38;5;28;01mdel\u001b[39;00m tup4\n",
      "\u001b[1;31mAttributeError\u001b[0m: 'tuple' object has no attribute 'clear'"
     ]
    }
   ],
   "source": [
    "tup4 = tuple((\"Akash\",\"Datascience\",\"BITSpilani\",\"Rajkot\",\"badminton\"))\n",
    "print(tup4)\n",
    "tup4.clear()\n",
    "print(tup4)\n",
    "del tup4\n",
    "print(tup4)"
   ]
  },
  {
   "cell_type": "markdown",
   "id": "14a250fd",
   "metadata": {},
   "source": [
    "# sets"
   ]
  },
  {
   "cell_type": "code",
   "execution_count": 58,
   "id": "6c495812",
   "metadata": {},
   "outputs": [
    {
     "name": "stdout",
     "output_type": "stream",
     "text": [
      "{'BITSpilani', 'Rajkot', 'Datascience', 'badminton', 'Akash'}\n",
      "<class 'set'>\n"
     ]
    },
    {
     "data": {
      "text/plain": [
       "5"
      ]
     },
     "execution_count": 58,
     "metadata": {},
     "output_type": "execute_result"
    }
   ],
   "source": [
    "set1 ={\"Akash\",\"Datascience\",\"BITSpilani\",\"Rajkot\",\"badminton\"}\n",
    "print(set1)\n",
    "print(type(set1))\n",
    "len(set1)"
   ]
  },
  {
   "cell_type": "code",
   "execution_count": 59,
   "id": "a38bf049",
   "metadata": {},
   "outputs": [
    {
     "ename": "TypeError",
     "evalue": "'set' object is not callable",
     "output_type": "error",
     "traceback": [
      "\u001b[1;31m---------------------------------------------------------------------------\u001b[0m",
      "\u001b[1;31mTypeError\u001b[0m                                 Traceback (most recent call last)",
      "Input \u001b[1;32mIn [59]\u001b[0m, in \u001b[0;36m<cell line: 1>\u001b[1;34m()\u001b[0m\n\u001b[1;32m----> 1\u001b[0m \u001b[43mset1\u001b[49m\u001b[43m(\u001b[49m\u001b[38;5;241;43m1\u001b[39;49m\u001b[43m)\u001b[49m\n",
      "\u001b[1;31mTypeError\u001b[0m: 'set' object is not callable"
     ]
    }
   ],
   "source": [
    "set1(1)"
   ]
  },
  {
   "cell_type": "code",
   "execution_count": 60,
   "id": "695fafcf",
   "metadata": {},
   "outputs": [
    {
     "name": "stdout",
     "output_type": "stream",
     "text": [
      "BITSpilani\n",
      "Rajkot\n",
      "Datascience\n",
      "badminton\n",
      "Akash\n"
     ]
    }
   ],
   "source": [
    "for x in set1:\n",
    "    print(x)"
   ]
  },
  {
   "cell_type": "code",
   "execution_count": 61,
   "id": "bdacbb18",
   "metadata": {},
   "outputs": [
    {
     "name": "stdout",
     "output_type": "stream",
     "text": [
      "True\n",
      "False\n",
      "False\n"
     ]
    }
   ],
   "source": [
    "print(\"Akash\" in set1)\n",
    "print(\"akash\" in set1)\n",
    "print(\"Aakash\" in set1)"
   ]
  },
  {
   "cell_type": "code",
   "execution_count": 68,
   "id": "f3ad75ef",
   "metadata": {},
   "outputs": [
    {
     "name": "stdout",
     "output_type": "stream",
     "text": [
      "{'BITSpilani', 'Rajkot', 'Datascience', 'badminton', 'Akash'}\n",
      "None\n",
      "{'BITSpilani', 'Rajkot', 'Datascience', 'badminton', 'Akash', 'Mountain'}\n",
      "None\n",
      "{'BITSpilani', 'Rajkot', 'Datascience', 'badminton', 'Mountain'}\n"
     ]
    }
   ],
   "source": [
    "set1 ={\"Akash\",\"Datascience\",\"BITSpilani\",\"Rajkot\",\"badminton\"}\n",
    "print(set1)\n",
    "print(set1.add(\"Mountain\"))\n",
    "print(set1)\n",
    "print(set1.remove(\"Akash\"))\n",
    "print(set1)"
   ]
  },
  {
   "cell_type": "code",
   "execution_count": 69,
   "id": "4469e9c3",
   "metadata": {},
   "outputs": [
    {
     "name": "stdout",
     "output_type": "stream",
     "text": [
      "{'start', 'learning', 'language', 'easy', 'python', \"let's\", 'is'}\n"
     ]
    }
   ],
   "source": [
    "set2 = {\"python\",\"is\"}\n",
    "set3 = {\"easy\",\"language\"}\n",
    "set6 = {\"let's\",\"start\",\"learning\"}\n",
    "\n",
    "#set4 = set2 + set3\n",
    "set4 = set2.union(set3).union(set6)\n",
    "print(set4)"
   ]
  },
  {
   "cell_type": "code",
   "execution_count": 70,
   "id": "893813bf",
   "metadata": {},
   "outputs": [
    {
     "name": "stdout",
     "output_type": "stream",
     "text": [
      "{\"let's\", 'start', 'learning', 'today'}\n"
     ]
    }
   ],
   "source": [
    "set6 = {\"let's\",\"start\",\"learning\"}\n",
    "set7 = {\"today\"}\n",
    "\n",
    "set6.update(set7)\n",
    "print(set6)"
   ]
  },
  {
   "cell_type": "markdown",
   "id": "7d68a1b3",
   "metadata": {},
   "source": [
    "# Dictonary"
   ]
  },
  {
   "cell_type": "code",
   "execution_count": 79,
   "id": "2bd4ee26",
   "metadata": {},
   "outputs": [
    {
     "name": "stdout",
     "output_type": "stream",
     "text": [
      "{'Name': 'Akash', 'Domain': 'Datascience', 'Alumni': 'BITSpilani', 'Location': 'Rajkot', 'sport': 'bedminton'}\n"
     ]
    }
   ],
   "source": [
    "#d1= {\"Name\":Akash,\"Domain\":Datascience,\"Alumni\": BITSpilani,\"Location\":Rajkot,\"sport\":bedminton}\n",
    "d1= {\"Name\":\"Akash\",\"Domain\":\"Datascience\",\"Alumni\": \"BITSpilani\",\"Location\":\"Rajkot\",\"sport\":\"bedminton\"}\n",
    "print(d1)"
   ]
  },
  {
   "cell_type": "code",
   "execution_count": 78,
   "id": "9e5f6aa3",
   "metadata": {},
   "outputs": [
    {
     "name": "stdout",
     "output_type": "stream",
     "text": [
      "Akash\n",
      "Datascience\n",
      "BITSpilani\n",
      "Rajkot\n"
     ]
    }
   ],
   "source": [
    "name = d1.get(\"Name\")\n",
    "domain = d1.get(\"Domain\")\n",
    "alumni = d1.get(\"Alumni\")\n",
    "location = d1.get(\"Location\")\n",
    "print(name)\n",
    "print(domain)\n",
    "print(alumni)\n",
    "print(location)"
   ]
  },
  {
   "cell_type": "code",
   "execution_count": 73,
   "id": "da2303eb",
   "metadata": {},
   "outputs": [
    {
     "name": "stdout",
     "output_type": "stream",
     "text": [
      "{'Name': 'Akash', 'Domain': 'Datascience', 'Alumni': 'BITSpilani', 'Location': 'Rajkot', 'sport': 'cricket'}\n",
      "cricket\n"
     ]
    }
   ],
   "source": [
    "d1[\"sport\"]= \"cricket\"\n",
    "print(d1)\n",
    "print(d1[\"sport\"])"
   ]
  },
  {
   "cell_type": "code",
   "execution_count": 74,
   "id": "33258dee",
   "metadata": {},
   "outputs": [
    {
     "name": "stdout",
     "output_type": "stream",
     "text": [
      "dict_keys(['Name', 'Domain', 'Alumni', 'Location', 'sport'])\n",
      "dict_values(['Akash', 'Datascience', 'BITSpilani', 'Rajkot', 'cricket'])\n",
      "dict_items([('Name', 'Akash'), ('Domain', 'Datascience'), ('Alumni', 'BITSpilani'), ('Location', 'Rajkot'), ('sport', 'cricket')])\n"
     ]
    }
   ],
   "source": [
    "print(d1.keys())\n",
    "print(d1.values())\n",
    "print(d1.items())\n"
   ]
  },
  {
   "cell_type": "code",
   "execution_count": 75,
   "id": "af131000",
   "metadata": {},
   "outputs": [
    {
     "ename": "NameError",
     "evalue": "name 'Name' is not defined",
     "output_type": "error",
     "traceback": [
      "\u001b[1;31m---------------------------------------------------------------------------\u001b[0m",
      "\u001b[1;31mNameError\u001b[0m                                 Traceback (most recent call last)",
      "Input \u001b[1;32mIn [75]\u001b[0m, in \u001b[0;36m<cell line: 1>\u001b[1;34m()\u001b[0m\n\u001b[1;32m----> 1\u001b[0m \u001b[38;5;28;01mif\u001b[39;00m \u001b[43mName\u001b[49m \u001b[38;5;129;01min\u001b[39;00m d1:\n\u001b[0;32m      2\u001b[0m     \u001b[38;5;28mprint\u001b[39m(\u001b[38;5;124m\"\u001b[39m\u001b[38;5;124myes\u001b[39m\u001b[38;5;124m\"\u001b[39m)\n\u001b[0;32m      3\u001b[0m \u001b[38;5;28;01melse\u001b[39;00m:\n",
      "\u001b[1;31mNameError\u001b[0m: name 'Name' is not defined"
     ]
    }
   ],
   "source": [
    "if Name in d1:\n",
    "    print(\"yes\")\n",
    "else:\n",
    "    print(\"no\")"
   ]
  },
  {
   "cell_type": "code",
   "execution_count": 83,
   "id": "ef1d28e8",
   "metadata": {},
   "outputs": [
    {
     "name": "stdout",
     "output_type": "stream",
     "text": [
      "yes\n"
     ]
    }
   ],
   "source": [
    "if \"Name\" in d1.keys():\n",
    "    print(\"yes\")\n",
    "else:\n",
    "    print(\"no\")"
   ]
  },
  {
   "cell_type": "code",
   "execution_count": 84,
   "id": "0530e6a5",
   "metadata": {},
   "outputs": [
    {
     "name": "stdout",
     "output_type": "stream",
     "text": [
      "yes\n"
     ]
    }
   ],
   "source": [
    "if \"Name\" in d1:\n",
    "    print(\"yes\")\n",
    "else:\n",
    "    print(\"no\")"
   ]
  },
  {
   "cell_type": "code",
   "execution_count": 85,
   "id": "daaa6a82",
   "metadata": {},
   "outputs": [
    {
     "name": "stdout",
     "output_type": "stream",
     "text": [
      "yes\n"
     ]
    }
   ],
   "source": [
    "if \"Akash\" in d1.values():\n",
    "    print(\"yes\")\n",
    "else:\n",
    "    print(\"no\")"
   ]
  },
  {
   "cell_type": "code",
   "execution_count": 86,
   "id": "0e12b1f0",
   "metadata": {},
   "outputs": [
    {
     "name": "stdout",
     "output_type": "stream",
     "text": [
      "no\n"
     ]
    }
   ],
   "source": [
    "if \"cricket\" in d1.values():\n",
    "    print(\"yes\")\n",
    "else:\n",
    "    print(\"no\")"
   ]
  },
  {
   "cell_type": "code",
   "execution_count": 87,
   "id": "6cf9a969",
   "metadata": {},
   "outputs": [
    {
     "name": "stdout",
     "output_type": "stream",
     "text": [
      "5\n"
     ]
    }
   ],
   "source": [
    "print(len(d1))"
   ]
  },
  {
   "cell_type": "code",
   "execution_count": 88,
   "id": "2b53fcbc",
   "metadata": {},
   "outputs": [
    {
     "name": "stdout",
     "output_type": "stream",
     "text": [
      "{'Name': 'Akash', 'Domain': 'Datascience', 'Alumni': 'BITSpilani', 'Location': 'Rajkot', 'sport': 'bedminton', 'language': 'Gujarati'}\n",
      "dict_keys(['Name', 'Domain', 'Alumni', 'Location', 'sport', 'language'])\n",
      "dict_values(['Akash', 'Datascience', 'BITSpilani', 'Rajkot', 'bedminton', 'Gujarati'])\n"
     ]
    }
   ],
   "source": [
    "d1[\"language\"] = \"Gujarati\"\n",
    "print(d1)\n",
    "print(d1.keys())\n",
    "print(d1.values())"
   ]
  },
  {
   "cell_type": "code",
   "execution_count": 89,
   "id": "5cca4101",
   "metadata": {},
   "outputs": [
    {
     "name": "stdout",
     "output_type": "stream",
     "text": [
      "{'Name': 'Akash', 'Domain': 'Datascience', 'Alumni': 'BITSpilani', 'Location': 'Rajkot', 'sport': 'bedminton', 'language': 'Gujarati'}\n",
      "{'Name': 'Akash', 'Domain': 'Datascience', 'Alumni': 'BITSpilani', 'Location': 'Rajkot', 'sport': 'bedminton'}\n"
     ]
    }
   ],
   "source": [
    "print(d1)\n",
    "d1.popitem()\n",
    "print(d1)"
   ]
  },
  {
   "cell_type": "code",
   "execution_count": 90,
   "id": "477204b5",
   "metadata": {},
   "outputs": [
    {
     "name": "stdout",
     "output_type": "stream",
     "text": [
      "{'Name': 'Akash', 'Domain': 'Datascience', 'Alumni': 'BITSpilani', 'Location': 'Rajkot', 'sport': 'bedminton'}\n",
      "{'Domain': 'Datascience', 'Alumni': 'BITSpilani', 'Location': 'Rajkot', 'sport': 'bedminton'}\n"
     ]
    }
   ],
   "source": [
    "print(d1)\n",
    "del d1[\"Name\"]\n",
    "print(d1)"
   ]
  },
  {
   "cell_type": "code",
   "execution_count": 91,
   "id": "9ef33571",
   "metadata": {},
   "outputs": [
    {
     "name": "stdout",
     "output_type": "stream",
     "text": [
      "{'Domain': 'Datascience', 'Alumni': 'BITSpilani', 'Location': 'Rajkot', 'sport': 'bedminton'}\n",
      "{}\n"
     ]
    }
   ],
   "source": [
    "print(d1)\n",
    "d1.clear()\n",
    "print(d1)\n"
   ]
  },
  {
   "cell_type": "code",
   "execution_count": 93,
   "id": "298f8ef9",
   "metadata": {},
   "outputs": [
    {
     "name": "stdout",
     "output_type": "stream",
     "text": [
      "{'Name': 'Akash', 'Domain': 'Datascience', 'Alumni': 'BITSpilani', 'Location': 'Rajkot', 'sport': 'bedminton'}\n",
      "{'Name': 'Akash', 'Domain': 'Datascience', 'Alumni': 'BITSpilani', 'Location': 'Rajkot', 'sport': 'bedminton'}\n"
     ]
    }
   ],
   "source": [
    "d1= {\"Name\":\"Akash\",\"Domain\":\"Datascience\",\"Alumni\": \"BITSpilani\",\"Location\":\"Rajkot\",\"sport\":\"bedminton\"}\n",
    "print(d1)\n",
    "d2 =d1.copy()\n",
    "print(d2)"
   ]
  },
  {
   "cell_type": "code",
   "execution_count": 94,
   "id": "2a97cab6",
   "metadata": {},
   "outputs": [
    {
     "data": {
      "text/plain": [
       "True"
      ]
     },
     "execution_count": 94,
     "metadata": {},
     "output_type": "execute_result"
    }
   ],
   "source": [
    "d1 == d2"
   ]
  },
  {
   "cell_type": "code",
   "execution_count": 96,
   "id": "efc8e092",
   "metadata": {},
   "outputs": [],
   "source": [
    "d4 = {\"childhood_friend\":\n",
    "      {\"Name\":\"Raj\",  \"sport\" : \"bedminton\",\"music\" : \"EDM\"},\n",
    "      \n",
    "      \"school_friend\":\n",
    "      {\"Name\":\"Vivek\",\"sport\" : \"cricket\",  \"music\" : \"mashups\"},\n",
    "      \n",
    "      \"college_friend\":\n",
    "      {\"Name\":\"Jay\",\"sport\" : \"Bowling\",  \"music\" : \"old-retro\"}}"
   ]
  },
  {
   "cell_type": "code",
   "execution_count": 98,
   "id": "04d47a4b",
   "metadata": {},
   "outputs": [
    {
     "name": "stdout",
     "output_type": "stream",
     "text": [
      "dict_keys(['childhood_friend', 'school_friend', 'college_friend'])\n",
      "dict_values([{'Name': 'Raj', 'sport': 'bedminton', 'music': 'EDM'}, {'Name': 'Vivek', 'sport': 'cricket', 'music': 'mashups'}, {'Name': 'Jay', 'sport': 'Bowling', 'music': 'old-retro'}])\n",
      "dict_items([('childhood_friend', {'Name': 'Raj', 'sport': 'bedminton', 'music': 'EDM'}), ('school_friend', {'Name': 'Vivek', 'sport': 'cricket', 'music': 'mashups'}), ('college_friend', {'Name': 'Jay', 'sport': 'Bowling', 'music': 'old-retro'})])\n"
     ]
    }
   ],
   "source": [
    "print(d4.keys())\n",
    "print(d4.values())\n",
    "print(d4.items())"
   ]
  },
  {
   "cell_type": "code",
   "execution_count": 99,
   "id": "4a8c8e5f",
   "metadata": {},
   "outputs": [
    {
     "name": "stdout",
     "output_type": "stream",
     "text": [
      "{'Name': 'Raj', 'sport': 'bedminton', 'music': 'EDM'}\n",
      "Raj\n",
      "Bowling\n"
     ]
    }
   ],
   "source": [
    "print(d4[\"childhood_friend\"])\n",
    "print(d4[\"childhood_friend\"][\"Name\"])\n",
    "print(d4[\"college_friend\"][\"sport\"])"
   ]
  },
  {
   "cell_type": "code",
   "execution_count": 100,
   "id": "537bb88e",
   "metadata": {},
   "outputs": [
    {
     "name": "stdout",
     "output_type": "stream",
     "text": [
      "{'Me': {'Name': 'Akash', 'Domain': 'Datascience', 'Alumni': 'BITSpilani', 'Location': 'Rajkot', 'sport': 'bedminton'}, 'Raj': {'Name': 'Raj', 'sport': 'bedminton', 'music': 'EDM'}, 'Vivek': {'Name': 'Vivek', 'sport': 'cricket', 'music': 'mashups'}, 'Jay': {'Name': 'Jay', 'sport': 'Bowling', 'music': 'old-retro'}}\n"
     ]
    }
   ],
   "source": [
    "d5 = { \"Me\":d1,\"Raj\":d4[\"childhood_friend\"],\"Vivek\":d4[\"school_friend\"],\"Jay\":d4[\"college_friend\"]}\n",
    "print(d5)"
   ]
  },
  {
   "cell_type": "code",
   "execution_count": null,
   "id": "ae994f19",
   "metadata": {},
   "outputs": [],
   "source": []
  },
  {
   "cell_type": "code",
   "execution_count": null,
   "id": "6a0b1c14",
   "metadata": {},
   "outputs": [],
   "source": []
  },
  {
   "cell_type": "code",
   "execution_count": null,
   "id": "f5ed7572",
   "metadata": {},
   "outputs": [],
   "source": []
  },
  {
   "cell_type": "code",
   "execution_count": null,
   "id": "1c87a411",
   "metadata": {},
   "outputs": [],
   "source": []
  },
  {
   "cell_type": "code",
   "execution_count": null,
   "id": "a03e97ad",
   "metadata": {},
   "outputs": [],
   "source": []
  },
  {
   "cell_type": "code",
   "execution_count": null,
   "id": "d44b2938",
   "metadata": {},
   "outputs": [],
   "source": []
  },
  {
   "cell_type": "code",
   "execution_count": null,
   "id": "5c8cc610",
   "metadata": {},
   "outputs": [],
   "source": []
  }
 ],
 "metadata": {
  "kernelspec": {
   "display_name": "Python 3 (ipykernel)",
   "language": "python",
   "name": "python3"
  },
  "language_info": {
   "codemirror_mode": {
    "name": "ipython",
    "version": 3
   },
   "file_extension": ".py",
   "mimetype": "text/x-python",
   "name": "python",
   "nbconvert_exporter": "python",
   "pygments_lexer": "ipython3",
   "version": "3.9.12"
  }
 },
 "nbformat": 4,
 "nbformat_minor": 5
}
