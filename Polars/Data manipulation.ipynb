{
 "cells": [
  {
   "cell_type": "code",
   "execution_count": 3,
   "metadata": {},
   "outputs": [],
   "source": [
    "import polars as pl\n",
    "import numpy as np\n",
    "import pandas as pd\n"
   ]
  },
  {
   "cell_type": "code",
   "execution_count": 11,
   "metadata": {},
   "outputs": [
    {
     "data": {
      "text/html": [
       "<div><style>\n",
       ".dataframe > thead > tr,\n",
       ".dataframe > tbody > tr {\n",
       "  text-align: right;\n",
       "  white-space: pre-wrap;\n",
       "}\n",
       "</style>\n",
       "<small>shape: (50, 3)</small><table border=\"1\" class=\"dataframe\"><thead><tr><th>name</th><th>empid</th><th>salary</th></tr><tr><td>str</td><td>i64</td><td>f64</td></tr></thead><tbody><tr><td>&quot;Employee 1&quot;</td><td>0</td><td>49491.727161</td></tr><tr><td>&quot;Employee 2&quot;</td><td>1</td><td>44606.837093</td></tr><tr><td>&quot;Employee 3&quot;</td><td>2</td><td>44706.54058</td></tr><tr><td>&quot;Employee 4&quot;</td><td>3</td><td>48368.500771</td></tr><tr><td>&quot;Employee 5&quot;</td><td>4</td><td>52777.66007</td></tr><tr><td>&hellip;</td><td>&hellip;</td><td>&hellip;</td></tr><tr><td>&quot;Employee 46&quot;</td><td>45</td><td>45163.648332</td></tr><tr><td>&quot;Employee 47&quot;</td><td>46</td><td>58115.465991</td></tr><tr><td>&quot;Employee 48&quot;</td><td>47</td><td>53177.161251</td></tr><tr><td>&quot;Employee 49&quot;</td><td>48</td><td>55920.620769</td></tr><tr><td>&quot;Employee 50&quot;</td><td>49</td><td>53459.625751</td></tr></tbody></table></div>"
      ],
      "text/plain": [
       "shape: (50, 3)\n",
       "┌─────────────┬───────┬──────────────┐\n",
       "│ name        ┆ empid ┆ salary       │\n",
       "│ ---         ┆ ---   ┆ ---          │\n",
       "│ str         ┆ i64   ┆ f64          │\n",
       "╞═════════════╪═══════╪══════════════╡\n",
       "│ Employee 1  ┆ 0     ┆ 49491.727161 │\n",
       "│ Employee 2  ┆ 1     ┆ 44606.837093 │\n",
       "│ Employee 3  ┆ 2     ┆ 44706.54058  │\n",
       "│ Employee 4  ┆ 3     ┆ 48368.500771 │\n",
       "│ Employee 5  ┆ 4     ┆ 52777.66007  │\n",
       "│ …           ┆ …     ┆ …            │\n",
       "│ Employee 46 ┆ 45    ┆ 45163.648332 │\n",
       "│ Employee 47 ┆ 46    ┆ 58115.465991 │\n",
       "│ Employee 48 ┆ 47    ┆ 53177.161251 │\n",
       "│ Employee 49 ┆ 48    ┆ 55920.620769 │\n",
       "│ Employee 50 ┆ 49    ┆ 53459.625751 │\n",
       "└─────────────┴───────┴──────────────┘"
      ]
     },
     "execution_count": 11,
     "metadata": {},
     "output_type": "execute_result"
    }
   ],
   "source": [
    "data = {\n",
    "    'name': [f'Employee {i}' for i in range(1, 51)],\n",
    "    'empid': [i for i in range(50)],\n",
    "    'salary': [i for i in np.random.normal(loc=50000, scale=5000, size=50)]\n",
    "}\n",
    "df = pl.DataFrame(data)\n",
    "df"
   ]
  }
 ],
 "metadata": {
  "kernelspec": {
   "display_name": "Python 3.10.7",
   "language": "python",
   "name": "python3.10.7"
  },
  "language_info": {
   "codemirror_mode": {
    "name": "ipython",
    "version": 3
   },
   "file_extension": ".py",
   "mimetype": "text/x-python",
   "name": "python",
   "nbconvert_exporter": "python",
   "pygments_lexer": "ipython3",
   "version": "3.9.16"
  }
 },
 "nbformat": 4,
 "nbformat_minor": 2
}
